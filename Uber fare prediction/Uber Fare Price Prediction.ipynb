{
 "cells": [
  {
   "cell_type": "markdown",
   "metadata": {},
   "source": [
    "______________________________________\n",
    "# UBER FARE PRICE PREDICTION USING ML\n",
    "___________________________________________________________________________"
   ]
  },
  {
   "cell_type": "markdown",
   "metadata": {},
   "source": [
    "# Dataset Description:\n",
    "\n",
    "The project is about on world's largest taxi company Uber inc. In this project, we're looking to predict the fare for their future transactional cases. Uber delivers service to lakhs of customers daily. Now it becomes really important to manage their data properly to come up with new business ideas to get best results. Eventually, it becomes really important to estimate the fare prices accurately.\n",
    "\n",
    "-- The datset contains the following fields:\n",
    "\n",
    "* key - a unique identifier for each trip\n",
    "* fare_amount - the cost of each trip in usd\n",
    "* pickup_datetime - date and time when the meter was engaged\n",
    "* passenger_count - the number of passengers in the vehicle (driver entered value)\n",
    "* pickup_longitude - the longitude where the meter was engaged\n",
    "* pickup_latitude - the latitude where the meter was engaged\n",
    "* dropoff_longitude - the longitude where the meter was disengaged\n",
    "* dropoff_latitude - the latitude where the meter was disengaged\n",
    "\n",
    "Acknowledgement:\n",
    "The dataset is referred from Kaggle.\n",
    "\n",
    "Objective:\n",
    "Understand the Dataset & cleanup (if required).\n",
    "Build Regression models to predict the fare price of uber ride.\n",
    "Also evaluate the models & compare thier respective scores like R2, RMSE, etc."
   ]
  },
  {
   "cell_type": "markdown",
   "metadata": {},
   "source": [
    "### Importing Necessary  Libraries"
   ]
  },
  {
   "cell_type": "code",
   "execution_count": 45,
   "metadata": {
    "execution": {
     "iopub.execute_input": "2023-01-16T01:30:27.888465Z",
     "iopub.status.busy": "2023-01-16T01:30:27.888044Z",
     "iopub.status.idle": "2023-01-16T01:30:27.894794Z",
     "shell.execute_reply": "2023-01-16T01:30:27.893872Z",
     "shell.execute_reply.started": "2023-01-16T01:30:27.888431Z"
    }
   },
   "outputs": [],
   "source": [
    "import numpy as np\n",
    "import pandas as pd\n",
    "import seaborn as sns\n",
    "import matplotlib.pyplot as plt\n",
    "from sklearn import svm\n",
    "from sklearn.model_selection import train_test_split\n",
    "from sklearn.neighbors import DistanceMetric\n",
    "from math import radians\n",
    "from sklearn.model_selection import GridSearchCV,RandomizedSearchCV\n",
    "from sklearn.metrics import mean_squared_error,accuracy_score,r2_score\n",
    "from sklearn.preprocessing import StandardScaler,LabelEncoder\n",
    "import statsmodels.api as sm\n",
    "import scipy.stats as sc\n",
    "from warnings import filterwarnings\n",
    "sns.set_style('whitegrid')\n",
    "plt.style.use('ggplot')\n",
    "filterwarnings('ignore')\n",
    "plt.rcParams['figure.figsize']=[15,8]"
   ]
  },
  {
   "cell_type": "markdown",
   "metadata": {},
   "source": [
    "# Load Data"
   ]
  },
  {
   "cell_type": "markdown",
   "metadata": {},
   "source": [
    "### Data Source:\n",
    "https://www.kaggle.com/datasets/yasserh/uber-fares-dataset"
   ]
  },
  {
   "cell_type": "code",
   "execution_count": 2,
   "metadata": {
    "execution": {
     "iopub.execute_input": "2023-01-16T01:30:27.897675Z",
     "iopub.status.busy": "2023-01-16T01:30:27.896779Z",
     "iopub.status.idle": "2023-01-16T01:30:28.414787Z",
     "shell.execute_reply": "2023-01-16T01:30:28.413737Z",
     "shell.execute_reply.started": "2023-01-16T01:30:27.897637Z"
    }
   },
   "outputs": [
    {
     "data": {
      "text/html": [
       "<div>\n",
       "<style scoped>\n",
       "    .dataframe tbody tr th:only-of-type {\n",
       "        vertical-align: middle;\n",
       "    }\n",
       "\n",
       "    .dataframe tbody tr th {\n",
       "        vertical-align: top;\n",
       "    }\n",
       "\n",
       "    .dataframe thead th {\n",
       "        text-align: right;\n",
       "    }\n",
       "</style>\n",
       "<table border=\"1\" class=\"dataframe\">\n",
       "  <thead>\n",
       "    <tr style=\"text-align: right;\">\n",
       "      <th></th>\n",
       "      <th>Unnamed: 0</th>\n",
       "      <th>key</th>\n",
       "      <th>fare_amount</th>\n",
       "      <th>pickup_datetime</th>\n",
       "      <th>pickup_longitude</th>\n",
       "      <th>pickup_latitude</th>\n",
       "      <th>dropoff_longitude</th>\n",
       "      <th>dropoff_latitude</th>\n",
       "      <th>passenger_count</th>\n",
       "    </tr>\n",
       "  </thead>\n",
       "  <tbody>\n",
       "    <tr>\n",
       "      <th>0</th>\n",
       "      <td>24238194</td>\n",
       "      <td>2015-05-07 19:52:06.0000003</td>\n",
       "      <td>7.5</td>\n",
       "      <td>2015-05-07 19:52:06 UTC</td>\n",
       "      <td>-73.999817</td>\n",
       "      <td>40.738354</td>\n",
       "      <td>-73.999512</td>\n",
       "      <td>40.723217</td>\n",
       "      <td>1</td>\n",
       "    </tr>\n",
       "    <tr>\n",
       "      <th>1</th>\n",
       "      <td>27835199</td>\n",
       "      <td>2009-07-17 20:04:56.0000002</td>\n",
       "      <td>7.7</td>\n",
       "      <td>2009-07-17 20:04:56 UTC</td>\n",
       "      <td>-73.994355</td>\n",
       "      <td>40.728225</td>\n",
       "      <td>-73.994710</td>\n",
       "      <td>40.750325</td>\n",
       "      <td>1</td>\n",
       "    </tr>\n",
       "    <tr>\n",
       "      <th>2</th>\n",
       "      <td>44984355</td>\n",
       "      <td>2009-08-24 21:45:00.00000061</td>\n",
       "      <td>12.9</td>\n",
       "      <td>2009-08-24 21:45:00 UTC</td>\n",
       "      <td>-74.005043</td>\n",
       "      <td>40.740770</td>\n",
       "      <td>-73.962565</td>\n",
       "      <td>40.772647</td>\n",
       "      <td>1</td>\n",
       "    </tr>\n",
       "    <tr>\n",
       "      <th>3</th>\n",
       "      <td>25894730</td>\n",
       "      <td>2009-06-26 08:22:21.0000001</td>\n",
       "      <td>5.3</td>\n",
       "      <td>2009-06-26 08:22:21 UTC</td>\n",
       "      <td>-73.976124</td>\n",
       "      <td>40.790844</td>\n",
       "      <td>-73.965316</td>\n",
       "      <td>40.803349</td>\n",
       "      <td>3</td>\n",
       "    </tr>\n",
       "    <tr>\n",
       "      <th>4</th>\n",
       "      <td>17610152</td>\n",
       "      <td>2014-08-28 17:47:00.000000188</td>\n",
       "      <td>16.0</td>\n",
       "      <td>2014-08-28 17:47:00 UTC</td>\n",
       "      <td>-73.925023</td>\n",
       "      <td>40.744085</td>\n",
       "      <td>-73.973082</td>\n",
       "      <td>40.761247</td>\n",
       "      <td>5</td>\n",
       "    </tr>\n",
       "  </tbody>\n",
       "</table>\n",
       "</div>"
      ],
      "text/plain": [
       "   Unnamed: 0                            key  fare_amount  \\\n",
       "0    24238194    2015-05-07 19:52:06.0000003          7.5   \n",
       "1    27835199    2009-07-17 20:04:56.0000002          7.7   \n",
       "2    44984355   2009-08-24 21:45:00.00000061         12.9   \n",
       "3    25894730    2009-06-26 08:22:21.0000001          5.3   \n",
       "4    17610152  2014-08-28 17:47:00.000000188         16.0   \n",
       "\n",
       "           pickup_datetime  pickup_longitude  pickup_latitude  \\\n",
       "0  2015-05-07 19:52:06 UTC        -73.999817        40.738354   \n",
       "1  2009-07-17 20:04:56 UTC        -73.994355        40.728225   \n",
       "2  2009-08-24 21:45:00 UTC        -74.005043        40.740770   \n",
       "3  2009-06-26 08:22:21 UTC        -73.976124        40.790844   \n",
       "4  2014-08-28 17:47:00 UTC        -73.925023        40.744085   \n",
       "\n",
       "   dropoff_longitude  dropoff_latitude  passenger_count  \n",
       "0         -73.999512         40.723217                1  \n",
       "1         -73.994710         40.750325                1  \n",
       "2         -73.962565         40.772647                1  \n",
       "3         -73.965316         40.803349                3  \n",
       "4         -73.973082         40.761247                5  "
      ]
     },
     "execution_count": 2,
     "metadata": {},
     "output_type": "execute_result"
    }
   ],
   "source": [
    "df = pd.read_csv('uber.csv')\n",
    "df.head()"
   ]
  },
  {
   "cell_type": "code",
   "execution_count": 6,
   "metadata": {},
   "outputs": [
    {
     "data": {
      "text/html": [
       "<div>\n",
       "<style scoped>\n",
       "    .dataframe tbody tr th:only-of-type {\n",
       "        vertical-align: middle;\n",
       "    }\n",
       "\n",
       "    .dataframe tbody tr th {\n",
       "        vertical-align: top;\n",
       "    }\n",
       "\n",
       "    .dataframe thead th {\n",
       "        text-align: right;\n",
       "    }\n",
       "</style>\n",
       "<table border=\"1\" class=\"dataframe\">\n",
       "  <thead>\n",
       "    <tr style=\"text-align: right;\">\n",
       "      <th></th>\n",
       "      <th>Unnamed: 0</th>\n",
       "      <th>key</th>\n",
       "      <th>fare_amount</th>\n",
       "      <th>pickup_datetime</th>\n",
       "      <th>pickup_longitude</th>\n",
       "      <th>pickup_latitude</th>\n",
       "      <th>dropoff_longitude</th>\n",
       "      <th>dropoff_latitude</th>\n",
       "      <th>passenger_count</th>\n",
       "    </tr>\n",
       "  </thead>\n",
       "  <tbody>\n",
       "    <tr>\n",
       "      <th>0</th>\n",
       "      <td>24238194</td>\n",
       "      <td>2015-05-07 19:52:06.0000003</td>\n",
       "      <td>7.5</td>\n",
       "      <td>2015-05-07 19:52:06 UTC</td>\n",
       "      <td>-73.999817</td>\n",
       "      <td>40.738354</td>\n",
       "      <td>-73.999512</td>\n",
       "      <td>40.723217</td>\n",
       "      <td>1</td>\n",
       "    </tr>\n",
       "    <tr>\n",
       "      <th>1</th>\n",
       "      <td>27835199</td>\n",
       "      <td>2009-07-17 20:04:56.0000002</td>\n",
       "      <td>7.7</td>\n",
       "      <td>2009-07-17 20:04:56 UTC</td>\n",
       "      <td>-73.994355</td>\n",
       "      <td>40.728225</td>\n",
       "      <td>-73.994710</td>\n",
       "      <td>40.750325</td>\n",
       "      <td>1</td>\n",
       "    </tr>\n",
       "    <tr>\n",
       "      <th>2</th>\n",
       "      <td>44984355</td>\n",
       "      <td>2009-08-24 21:45:00.00000061</td>\n",
       "      <td>12.9</td>\n",
       "      <td>2009-08-24 21:45:00 UTC</td>\n",
       "      <td>-74.005043</td>\n",
       "      <td>40.740770</td>\n",
       "      <td>-73.962565</td>\n",
       "      <td>40.772647</td>\n",
       "      <td>1</td>\n",
       "    </tr>\n",
       "    <tr>\n",
       "      <th>3</th>\n",
       "      <td>25894730</td>\n",
       "      <td>2009-06-26 08:22:21.0000001</td>\n",
       "      <td>5.3</td>\n",
       "      <td>2009-06-26 08:22:21 UTC</td>\n",
       "      <td>-73.976124</td>\n",
       "      <td>40.790844</td>\n",
       "      <td>-73.965316</td>\n",
       "      <td>40.803349</td>\n",
       "      <td>3</td>\n",
       "    </tr>\n",
       "    <tr>\n",
       "      <th>4</th>\n",
       "      <td>17610152</td>\n",
       "      <td>2014-08-28 17:47:00.000000188</td>\n",
       "      <td>16.0</td>\n",
       "      <td>2014-08-28 17:47:00 UTC</td>\n",
       "      <td>-73.925023</td>\n",
       "      <td>40.744085</td>\n",
       "      <td>-73.973082</td>\n",
       "      <td>40.761247</td>\n",
       "      <td>5</td>\n",
       "    </tr>\n",
       "  </tbody>\n",
       "</table>\n",
       "</div>"
      ],
      "text/plain": [
       "   Unnamed: 0                            key  fare_amount  \\\n",
       "0    24238194    2015-05-07 19:52:06.0000003          7.5   \n",
       "1    27835199    2009-07-17 20:04:56.0000002          7.7   \n",
       "2    44984355   2009-08-24 21:45:00.00000061         12.9   \n",
       "3    25894730    2009-06-26 08:22:21.0000001          5.3   \n",
       "4    17610152  2014-08-28 17:47:00.000000188         16.0   \n",
       "\n",
       "           pickup_datetime  pickup_longitude  pickup_latitude  \\\n",
       "0  2015-05-07 19:52:06 UTC        -73.999817        40.738354   \n",
       "1  2009-07-17 20:04:56 UTC        -73.994355        40.728225   \n",
       "2  2009-08-24 21:45:00 UTC        -74.005043        40.740770   \n",
       "3  2009-06-26 08:22:21 UTC        -73.976124        40.790844   \n",
       "4  2014-08-28 17:47:00 UTC        -73.925023        40.744085   \n",
       "\n",
       "   dropoff_longitude  dropoff_latitude  passenger_count  \n",
       "0         -73.999512         40.723217                1  \n",
       "1         -73.994710         40.750325                1  \n",
       "2         -73.962565         40.772647                1  \n",
       "3         -73.965316         40.803349                3  \n",
       "4         -73.973082         40.761247                5  "
      ]
     },
     "execution_count": 6,
     "metadata": {},
     "output_type": "execute_result"
    }
   ],
   "source": [
    "df.head()"
   ]
  },
  {
   "cell_type": "markdown",
   "metadata": {},
   "source": [
    "### Dataset Info"
   ]
  },
  {
   "cell_type": "code",
   "execution_count": 4,
   "metadata": {
    "execution": {
     "iopub.execute_input": "2023-01-16T01:30:28.416803Z",
     "iopub.status.busy": "2023-01-16T01:30:28.416212Z",
     "iopub.status.idle": "2023-01-16T01:30:28.465645Z",
     "shell.execute_reply": "2023-01-16T01:30:28.46438Z",
     "shell.execute_reply.started": "2023-01-16T01:30:28.416767Z"
    },
    "scrolled": false
   },
   "outputs": [
    {
     "name": "stdout",
     "output_type": "stream",
     "text": [
      "<class 'pandas.core.frame.DataFrame'>\n",
      "RangeIndex: 200000 entries, 0 to 199999\n",
      "Data columns (total 9 columns):\n",
      " #   Column             Non-Null Count   Dtype  \n",
      "---  ------             --------------   -----  \n",
      " 0   Unnamed: 0         200000 non-null  int64  \n",
      " 1   key                200000 non-null  object \n",
      " 2   fare_amount        200000 non-null  float64\n",
      " 3   pickup_datetime    200000 non-null  object \n",
      " 4   pickup_longitude   200000 non-null  float64\n",
      " 5   pickup_latitude    200000 non-null  float64\n",
      " 6   dropoff_longitude  199999 non-null  float64\n",
      " 7   dropoff_latitude   199999 non-null  float64\n",
      " 8   passenger_count    200000 non-null  int64  \n",
      "dtypes: float64(5), int64(2), object(2)\n",
      "memory usage: 13.7+ MB\n"
     ]
    }
   ],
   "source": [
    "df.info()"
   ]
  },
  {
   "cell_type": "markdown",
   "metadata": {},
   "source": [
    "* the Data Set Consists  200000 rows and 9 columns.\n",
    "* fare_amount is the Target Variable.\n",
    "* Dataset Consists  of numerical and categorical variables:\n",
    "- Numerical Variables:\n",
    "    - pickup_datetime\n",
    "    - pickup_latitude\n",
    "    - pickup_longitude\n",
    "    - dropoff_latitude\n",
    "    - dropoff_longitude\n",
    "- Categorical Variables:\n",
    "    - passanger_count"
   ]
  },
  {
   "cell_type": "markdown",
   "metadata": {},
   "source": [
    "### Check for Null Values"
   ]
  },
  {
   "cell_type": "code",
   "execution_count": 8,
   "metadata": {
    "scrolled": true
   },
   "outputs": [
    {
     "data": {
      "text/plain": [
       "Unnamed: 0           0\n",
       "key                  0\n",
       "fare_amount          0\n",
       "pickup_datetime      0\n",
       "pickup_longitude     0\n",
       "pickup_latitude      0\n",
       "dropoff_longitude    1\n",
       "dropoff_latitude     1\n",
       "passenger_count      0\n",
       "dtype: int64"
      ]
     },
     "execution_count": 8,
     "metadata": {},
     "output_type": "execute_result"
    }
   ],
   "source": [
    "df.isnull().sum()"
   ]
  },
  {
   "cell_type": "markdown",
   "metadata": {},
   "source": [
    "* There are only  2 columns with 2 missing values"
   ]
  },
  {
   "cell_type": "code",
   "execution_count": 9,
   "metadata": {
    "execution": {
     "iopub.execute_input": "2023-01-16T01:30:28.493855Z",
     "iopub.status.busy": "2023-01-16T01:30:28.49351Z",
     "iopub.status.idle": "2023-01-16T01:30:28.498064Z",
     "shell.execute_reply": "2023-01-16T01:30:28.49716Z",
     "shell.execute_reply.started": "2023-01-16T01:30:28.493824Z"
    }
   },
   "outputs": [],
   "source": [
    "# Create a Copy of the Orginal Dataset\n",
    "df1 = df.copy()"
   ]
  },
  {
   "cell_type": "code",
   "execution_count": 10,
   "metadata": {
    "execution": {
     "iopub.execute_input": "2023-01-16T01:30:28.49997Z",
     "iopub.status.busy": "2023-01-16T01:30:28.499438Z",
     "iopub.status.idle": "2023-01-16T01:30:28.69324Z",
     "shell.execute_reply": "2023-01-16T01:30:28.691884Z",
     "shell.execute_reply.started": "2023-01-16T01:30:28.499928Z"
    }
   },
   "outputs": [
    {
     "data": {
      "text/plain": [
       "Unnamed: 0           200000\n",
       "key                  200000\n",
       "fare_amount            1244\n",
       "pickup_datetime      196629\n",
       "pickup_longitude      71066\n",
       "pickup_latitude       83835\n",
       "dropoff_longitude     76894\n",
       "dropoff_latitude      90585\n",
       "passenger_count           8\n",
       "dtype: int64"
      ]
     },
     "execution_count": 10,
     "metadata": {},
     "output_type": "execute_result"
    }
   ],
   "source": [
    "df1.nunique()"
   ]
  },
  {
   "cell_type": "code",
   "execution_count": 11,
   "metadata": {
    "execution": {
     "iopub.execute_input": "2023-01-16T01:30:28.916501Z",
     "iopub.status.busy": "2023-01-16T01:30:28.916137Z",
     "iopub.status.idle": "2023-01-16T01:30:28.958963Z",
     "shell.execute_reply": "2023-01-16T01:30:28.957644Z",
     "shell.execute_reply.started": "2023-01-16T01:30:28.916468Z"
    }
   },
   "outputs": [],
   "source": [
    "# lets Drop the Insignificant  columns 'Unnamed: 0' and 'key' as well as Missing values rows\n",
    "\n",
    "df1 = df1.drop(['Unnamed: 0','key'],axis=1)\n",
    "df1.dropna(axis=0,inplace=True)"
   ]
  },
  {
   "cell_type": "markdown",
   "metadata": {},
   "source": [
    "#  Data Analysis (EDA) and Data Pre-processing"
   ]
  },
  {
   "cell_type": "code",
   "execution_count": 12,
   "metadata": {
    "execution": {
     "iopub.execute_input": "2023-01-16T01:30:28.960868Z",
     "iopub.status.busy": "2023-01-16T01:30:28.960402Z",
     "iopub.status.idle": "2023-01-16T01:30:29.04805Z",
     "shell.execute_reply": "2023-01-16T01:30:29.04678Z",
     "shell.execute_reply.started": "2023-01-16T01:30:28.960832Z"
    },
    "scrolled": true
   },
   "outputs": [
    {
     "data": {
      "text/html": [
       "<div>\n",
       "<style scoped>\n",
       "    .dataframe tbody tr th:only-of-type {\n",
       "        vertical-align: middle;\n",
       "    }\n",
       "\n",
       "    .dataframe tbody tr th {\n",
       "        vertical-align: top;\n",
       "    }\n",
       "\n",
       "    .dataframe thead th {\n",
       "        text-align: right;\n",
       "    }\n",
       "</style>\n",
       "<table border=\"1\" class=\"dataframe\">\n",
       "  <thead>\n",
       "    <tr style=\"text-align: right;\">\n",
       "      <th></th>\n",
       "      <th>count</th>\n",
       "      <th>mean</th>\n",
       "      <th>std</th>\n",
       "      <th>min</th>\n",
       "      <th>25%</th>\n",
       "      <th>50%</th>\n",
       "      <th>75%</th>\n",
       "      <th>max</th>\n",
       "    </tr>\n",
       "  </thead>\n",
       "  <tbody>\n",
       "    <tr>\n",
       "      <th>fare_amount</th>\n",
       "      <td>199999.0</td>\n",
       "      <td>11.359892</td>\n",
       "      <td>9.901760</td>\n",
       "      <td>-52.000000</td>\n",
       "      <td>6.000000</td>\n",
       "      <td>8.500000</td>\n",
       "      <td>12.500000</td>\n",
       "      <td>499.000000</td>\n",
       "    </tr>\n",
       "    <tr>\n",
       "      <th>pickup_longitude</th>\n",
       "      <td>199999.0</td>\n",
       "      <td>-72.527631</td>\n",
       "      <td>11.437815</td>\n",
       "      <td>-1340.648410</td>\n",
       "      <td>-73.992065</td>\n",
       "      <td>-73.981823</td>\n",
       "      <td>-73.967154</td>\n",
       "      <td>57.418457</td>\n",
       "    </tr>\n",
       "    <tr>\n",
       "      <th>pickup_latitude</th>\n",
       "      <td>199999.0</td>\n",
       "      <td>39.935881</td>\n",
       "      <td>7.720558</td>\n",
       "      <td>-74.015515</td>\n",
       "      <td>40.734796</td>\n",
       "      <td>40.752592</td>\n",
       "      <td>40.767158</td>\n",
       "      <td>1644.421482</td>\n",
       "    </tr>\n",
       "    <tr>\n",
       "      <th>dropoff_longitude</th>\n",
       "      <td>199999.0</td>\n",
       "      <td>-72.525292</td>\n",
       "      <td>13.117408</td>\n",
       "      <td>-3356.666300</td>\n",
       "      <td>-73.991407</td>\n",
       "      <td>-73.980093</td>\n",
       "      <td>-73.963658</td>\n",
       "      <td>1153.572603</td>\n",
       "    </tr>\n",
       "    <tr>\n",
       "      <th>dropoff_latitude</th>\n",
       "      <td>199999.0</td>\n",
       "      <td>39.923890</td>\n",
       "      <td>6.794829</td>\n",
       "      <td>-881.985513</td>\n",
       "      <td>40.733823</td>\n",
       "      <td>40.753042</td>\n",
       "      <td>40.768001</td>\n",
       "      <td>872.697628</td>\n",
       "    </tr>\n",
       "    <tr>\n",
       "      <th>passenger_count</th>\n",
       "      <td>199999.0</td>\n",
       "      <td>1.684543</td>\n",
       "      <td>1.385995</td>\n",
       "      <td>0.000000</td>\n",
       "      <td>1.000000</td>\n",
       "      <td>1.000000</td>\n",
       "      <td>2.000000</td>\n",
       "      <td>208.000000</td>\n",
       "    </tr>\n",
       "  </tbody>\n",
       "</table>\n",
       "</div>"
      ],
      "text/plain": [
       "                      count       mean        std          min        25%  \\\n",
       "fare_amount        199999.0  11.359892   9.901760   -52.000000   6.000000   \n",
       "pickup_longitude   199999.0 -72.527631  11.437815 -1340.648410 -73.992065   \n",
       "pickup_latitude    199999.0  39.935881   7.720558   -74.015515  40.734796   \n",
       "dropoff_longitude  199999.0 -72.525292  13.117408 -3356.666300 -73.991407   \n",
       "dropoff_latitude   199999.0  39.923890   6.794829  -881.985513  40.733823   \n",
       "passenger_count    199999.0   1.684543   1.385995     0.000000   1.000000   \n",
       "\n",
       "                         50%        75%          max  \n",
       "fare_amount         8.500000  12.500000   499.000000  \n",
       "pickup_longitude  -73.981823 -73.967154    57.418457  \n",
       "pickup_latitude    40.752592  40.767158  1644.421482  \n",
       "dropoff_longitude -73.980093 -73.963658  1153.572603  \n",
       "dropoff_latitude   40.753042  40.768001   872.697628  \n",
       "passenger_count     1.000000   2.000000   208.000000  "
      ]
     },
     "execution_count": 12,
     "metadata": {},
     "output_type": "execute_result"
    }
   ],
   "source": [
    "df1.describe().T"
   ]
  },
  {
   "cell_type": "markdown",
   "metadata": {},
   "source": [
    "* The avg fare amount is 11.3$  ,and min = -52, max = 499$ this might Indicate Presence of Outliers in the Dataset \n",
    "* Passanger count max is 208, which is also not possible. Max to be set at 5\n",
    "\n",
    "-- By Observing the Values present in these Columns it Clearly Indicates presence of Outliers and Correlation"
   ]
  },
  {
   "cell_type": "markdown",
   "metadata": {},
   "source": [
    "### Correlation matrix"
   ]
  },
  {
   "cell_type": "code",
   "execution_count": 46,
   "metadata": {
    "execution": {
     "iopub.execute_input": "2023-01-16T01:30:29.095025Z",
     "iopub.status.busy": "2023-01-16T01:30:29.094598Z",
     "iopub.status.idle": "2023-01-16T01:30:29.665887Z",
     "shell.execute_reply": "2023-01-16T01:30:29.664659Z",
     "shell.execute_reply.started": "2023-01-16T01:30:29.094994Z"
    }
   },
   "outputs": [
    {
     "data": {
      "image/png": "[encoded data removed]",
      "text/plain": [
       "<Figure size 1080x720 with 2 Axes>"
      ]
     },
     "metadata": {},
     "output_type": "display_data"
    }
   ],
   "source": [
    "# to Identify Correlated Values \n",
    "plt.figure(figsize=(15,10))\n",
    "sns.heatmap(df1.corr(), annot=True, linewidths=.5, vmin = -1, vmax = 1, fmt = '.2g')\n",
    "plt.show()"
   ]
  },
  {
   "cell_type": "markdown",
   "metadata": {},
   "source": [
    "High correlation can be observed between the geo-spatial data points, which was expected. Therefore, there is no need to drop any of the independent variables"
   ]
  },
  {
   "cell_type": "markdown",
   "metadata": {},
   "source": [
    "### Lets Calculate  Haversine distance\n",
    "*meaninig* : The Haversine (or great circle) distance is the angular distance between two points on the surface of a sphere. The first coordinate of each point is assumed to be the latitude, the second is the longitude, given in radians."
   ]
  },
  {
   "cell_type": "code",
   "execution_count": 14,
   "metadata": {
    "execution": {
     "iopub.execute_input": "2023-01-16T01:30:29.667971Z",
     "iopub.status.busy": "2023-01-16T01:30:29.6675Z",
     "iopub.status.idle": "2023-01-16T01:30:29.67418Z",
     "shell.execute_reply": "2023-01-16T01:30:29.672962Z",
     "shell.execute_reply.started": "2023-01-16T01:30:29.667925Z"
    }
   },
   "outputs": [],
   "source": [
    "from math import *\n",
    "# or\n",
    "# sklearn.metrics.pairwise.haversine_distances"
   ]
  },
  {
   "cell_type": "code",
   "execution_count": 15,
   "metadata": {
    "execution": {
     "iopub.execute_input": "2023-01-16T01:30:29.680186Z",
     "iopub.status.busy": "2023-01-16T01:30:29.679688Z",
     "iopub.status.idle": "2023-01-16T01:30:29.688493Z",
     "shell.execute_reply": "2023-01-16T01:30:29.687296Z",
     "shell.execute_reply.started": "2023-01-16T01:30:29.680147Z"
    }
   },
   "outputs": [],
   "source": [
    "# Define formula to calculate haversine distance\n",
    "def distance(longitude1, latitude1, longitude2, latitude2):\n",
    "    travel_dist = []\n",
    "    \n",
    "    for pos in range(len(longitude1)):\n",
    "        long1,lati1,long2,lati2 = map(radians,[longitude1[pos],latitude1[pos],longitude2[pos],latitude2[pos]])\n",
    "        dist_long = long2 - long1\n",
    "        dist_lati = lati2 - lati1\n",
    "        a = sin(dist_lati/2)**2 + cos(lati1) * cos(lati2) * sin(dist_long/2)**2\n",
    "        c = 2 * asin(sqrt(a))*6371\n",
    "        travel_dist.append(c)\n",
    "       \n",
    "    return travel_dist"
   ]
  },
  {
   "cell_type": "code",
   "execution_count": 18,
   "metadata": {
    "execution": {
     "iopub.execute_input": "2023-01-16T01:30:29.69025Z",
     "iopub.status.busy": "2023-01-16T01:30:29.689818Z",
     "iopub.status.idle": "2023-01-16T01:30:30.134287Z",
     "shell.execute_reply": "2023-01-16T01:30:30.133281Z",
     "shell.execute_reply.started": "2023-01-16T01:30:29.690217Z"
    }
   },
   "outputs": [],
   "source": [
    "# Calculate for each row and add distance in km as a new column\n",
    "df1['distance_travelled'] = distance(df1['pickup_longitude'].to_numpy(),\n",
    "                                                df1['pickup_latitude'].to_numpy(),\n",
    "                                                df1['dropoff_longitude'].to_numpy(),\n",
    "                                                df1['dropoff_latitude'].to_numpy()\n",
    "                                              )"
   ]
  },
  {
   "cell_type": "code",
   "execution_count": 19,
   "metadata": {
    "execution": {
     "iopub.execute_input": "2023-01-16T01:30:30.136094Z",
     "iopub.status.busy": "2023-01-16T01:30:30.135731Z",
     "iopub.status.idle": "2023-01-16T01:30:30.161721Z",
     "shell.execute_reply": "2023-01-16T01:30:30.160453Z",
     "shell.execute_reply.started": "2023-01-16T01:30:30.136059Z"
    }
   },
   "outputs": [
    {
     "name": "stdout",
     "output_type": "stream",
     "text": [
      "<class 'pandas.core.frame.DataFrame'>\n",
      "Int64Index: 199999 entries, 0 to 199999\n",
      "Data columns (total 8 columns):\n",
      " #   Column              Non-Null Count   Dtype  \n",
      "---  ------              --------------   -----  \n",
      " 0   fare_amount         199999 non-null  float64\n",
      " 1   pickup_datetime     199999 non-null  object \n",
      " 2   pickup_longitude    199999 non-null  float64\n",
      " 3   pickup_latitude     199999 non-null  float64\n",
      " 4   dropoff_longitude   199999 non-null  float64\n",
      " 5   dropoff_latitude    199999 non-null  float64\n",
      " 6   passenger_count     199999 non-null  int64  \n",
      " 7   distance_travelled  199999 non-null  float64\n",
      "dtypes: float64(6), int64(1), object(1)\n",
      "memory usage: 13.7+ MB\n"
     ]
    }
   ],
   "source": [
    "df1.info()"
   ]
  },
  {
   "cell_type": "code",
   "execution_count": 20,
   "metadata": {
    "execution": {
     "iopub.execute_input": "2023-01-16T01:30:30.163496Z",
     "iopub.status.busy": "2023-01-16T01:30:30.163125Z",
     "iopub.status.idle": "2023-01-16T01:30:59.536869Z",
     "shell.execute_reply": "2023-01-16T01:30:59.535839Z",
     "shell.execute_reply.started": "2023-01-16T01:30:30.163462Z"
    }
   },
   "outputs": [],
   "source": [
    "# As we can see, pickup_datetime is being read as an object data type. However, we need to convert it into datetime data type\n",
    "df1['pickup_datetime']  = pd.to_datetime(df1['pickup_datetime'])"
   ]
  },
  {
   "cell_type": "code",
   "execution_count": 21,
   "metadata": {
    "execution": {
     "iopub.execute_input": "2023-01-16T01:30:59.539193Z",
     "iopub.status.busy": "2023-01-16T01:30:59.538384Z",
     "iopub.status.idle": "2023-01-16T01:30:59.556841Z",
     "shell.execute_reply": "2023-01-16T01:30:59.55549Z",
     "shell.execute_reply.started": "2023-01-16T01:30:59.539143Z"
    }
   },
   "outputs": [
    {
     "name": "stdout",
     "output_type": "stream",
     "text": [
      "<class 'pandas.core.frame.DataFrame'>\n",
      "Int64Index: 199999 entries, 0 to 199999\n",
      "Data columns (total 8 columns):\n",
      " #   Column              Non-Null Count   Dtype              \n",
      "---  ------              --------------   -----              \n",
      " 0   fare_amount         199999 non-null  float64            \n",
      " 1   pickup_datetime     199999 non-null  datetime64[ns, UTC]\n",
      " 2   pickup_longitude    199999 non-null  float64            \n",
      " 3   pickup_latitude     199999 non-null  float64            \n",
      " 4   dropoff_longitude   199999 non-null  float64            \n",
      " 5   dropoff_latitude    199999 non-null  float64            \n",
      " 6   passenger_count     199999 non-null  int64              \n",
      " 7   distance_travelled  199999 non-null  float64            \n",
      "dtypes: datetime64[ns, UTC](1), float64(6), int64(1)\n",
      "memory usage: 13.7 MB\n"
     ]
    }
   ],
   "source": [
    "df1.info()"
   ]
  },
  {
   "cell_type": "code",
   "execution_count": 22,
   "metadata": {
    "execution": {
     "iopub.execute_input": "2023-01-16T01:30:59.558709Z",
     "iopub.status.busy": "2023-01-16T01:30:59.55836Z",
     "iopub.status.idle": "2023-01-16T01:31:00.103832Z",
     "shell.execute_reply": "2023-01-16T01:31:00.102496Z",
     "shell.execute_reply.started": "2023-01-16T01:30:59.558677Z"
    }
   },
   "outputs": [],
   "source": [
    "# From pickup_datetime extract date, month, year, weekday and dayname\n",
    "from datetime import datetime\n",
    "\n",
    "df1['date'] = pd.to_datetime(df1['pickup_datetime']).dt.date\n",
    "df1['month'] = pd.to_datetime(df1['pickup_datetime']).dt.month\n",
    "df1['year'] = pd.to_datetime(df1['pickup_datetime']).dt.year\n",
    "df1['day_of_the_week'] = pd.to_datetime(df1['pickup_datetime']).dt.weekday\n",
    "df1['day_name'] = pd.to_datetime(df1['pickup_datetime']).dt.day_name()\n",
    "df1['pickup_time'] = pd.to_datetime(df1['pickup_datetime']).dt.time\n",
    "df1['pickup_hour'] = pd.to_datetime(df1['pickup_datetime']).dt.hour"
   ]
  },
  {
   "cell_type": "code",
   "execution_count": null,
   "metadata": {
    "execution": {
     "iopub.execute_input": "2023-01-16T01:31:00.106482Z",
     "iopub.status.busy": "2023-01-16T01:31:00.106131Z",
     "iopub.status.idle": "2023-01-16T01:31:00.15362Z",
     "shell.execute_reply": "2023-01-16T01:31:00.152378Z",
     "shell.execute_reply.started": "2023-01-16T01:31:00.106452Z"
    },
    "scrolled": true
   },
   "outputs": [],
   "source": [
    "data.info()"
   ]
  },
  {
   "cell_type": "markdown",
   "metadata": {},
   "source": [
    "### Outlier Treatment"
   ]
  },
  {
   "cell_type": "markdown",
   "metadata": {},
   "source": [
    "The following treatment is being done to outliers:\n",
    "- passanger_count should be less than 5\n",
    "- rows with passanger_count = 0 should be dropped\n",
    "- fare_amount should be kept to the minimum set by Uber, i.e., $2.5\n",
    "- distance should be maximum 130 km\n",
    "- distance travelled cannot be zero. Rows with distance = 0 must be dropped"
   ]
  },
  {
   "cell_type": "code",
   "execution_count": null,
   "metadata": {
    "execution": {
     "iopub.execute_input": "2023-01-16T01:31:00.155879Z",
     "iopub.status.busy": "2023-01-16T01:31:00.15481Z",
     "iopub.status.idle": "2023-01-16T01:31:00.426388Z",
     "shell.execute_reply": "2023-01-16T01:31:00.424948Z",
     "shell.execute_reply.started": "2023-01-16T01:31:00.15584Z"
    }
   },
   "outputs": [],
   "source": [
    "data.drop(data[data['passenger_count'] > 5].index, axis=0, inplace = True)\n",
    "data.drop(data[data['passenger_count'] == 0].index, axis=0, inplace = True)\n",
    "data.drop(data[data['fare_amount'] < 2.5].index, axis=0, inplace = True)\n",
    "data.drop(data[data['distance_travelled'] > 130].index, axis=0, inplace = True)\n",
    "data.drop(data[data['distance_travelled'] == 0].index, axis=0, inplace = True)\n",
    "data.dropna(axis=0,inplace=True)"
   ]
  },
  {
   "cell_type": "code",
   "execution_count": 23,
   "metadata": {
    "execution": {
     "iopub.execute_input": "2023-01-16T01:31:00.428585Z",
     "iopub.status.busy": "2023-01-16T01:31:00.428211Z",
     "iopub.status.idle": "2023-01-16T01:31:00.449675Z",
     "shell.execute_reply": "2023-01-16T01:31:00.448195Z",
     "shell.execute_reply.started": "2023-01-16T01:31:00.428552Z"
    }
   },
   "outputs": [
    {
     "data": {
      "text/html": [
       "<div>\n",
       "<style scoped>\n",
       "    .dataframe tbody tr th:only-of-type {\n",
       "        vertical-align: middle;\n",
       "    }\n",
       "\n",
       "    .dataframe tbody tr th {\n",
       "        vertical-align: top;\n",
       "    }\n",
       "\n",
       "    .dataframe thead th {\n",
       "        text-align: right;\n",
       "    }\n",
       "</style>\n",
       "<table border=\"1\" class=\"dataframe\">\n",
       "  <thead>\n",
       "    <tr style=\"text-align: right;\">\n",
       "      <th></th>\n",
       "      <th>fare_amount</th>\n",
       "      <th>pickup_datetime</th>\n",
       "      <th>pickup_longitude</th>\n",
       "      <th>pickup_latitude</th>\n",
       "      <th>dropoff_longitude</th>\n",
       "      <th>dropoff_latitude</th>\n",
       "      <th>passenger_count</th>\n",
       "      <th>distance_travelled</th>\n",
       "      <th>date</th>\n",
       "      <th>month</th>\n",
       "      <th>year</th>\n",
       "      <th>day_of_the_week</th>\n",
       "      <th>day_name</th>\n",
       "      <th>pickup_time</th>\n",
       "      <th>pickup_hour</th>\n",
       "    </tr>\n",
       "  </thead>\n",
       "  <tbody>\n",
       "    <tr>\n",
       "      <th>0</th>\n",
       "      <td>7.5</td>\n",
       "      <td>2015-05-07 19:52:06+00:00</td>\n",
       "      <td>-73.999817</td>\n",
       "      <td>40.738354</td>\n",
       "      <td>-73.999512</td>\n",
       "      <td>40.723217</td>\n",
       "      <td>1</td>\n",
       "      <td>1.683323</td>\n",
       "      <td>2015-05-07</td>\n",
       "      <td>5</td>\n",
       "      <td>2015</td>\n",
       "      <td>3</td>\n",
       "      <td>Thursday</td>\n",
       "      <td>19:52:06</td>\n",
       "      <td>19</td>\n",
       "    </tr>\n",
       "    <tr>\n",
       "      <th>1</th>\n",
       "      <td>7.7</td>\n",
       "      <td>2009-07-17 20:04:56+00:00</td>\n",
       "      <td>-73.994355</td>\n",
       "      <td>40.728225</td>\n",
       "      <td>-73.994710</td>\n",
       "      <td>40.750325</td>\n",
       "      <td>1</td>\n",
       "      <td>2.457590</td>\n",
       "      <td>2009-07-17</td>\n",
       "      <td>7</td>\n",
       "      <td>2009</td>\n",
       "      <td>4</td>\n",
       "      <td>Friday</td>\n",
       "      <td>20:04:56</td>\n",
       "      <td>20</td>\n",
       "    </tr>\n",
       "    <tr>\n",
       "      <th>2</th>\n",
       "      <td>12.9</td>\n",
       "      <td>2009-08-24 21:45:00+00:00</td>\n",
       "      <td>-74.005043</td>\n",
       "      <td>40.740770</td>\n",
       "      <td>-73.962565</td>\n",
       "      <td>40.772647</td>\n",
       "      <td>1</td>\n",
       "      <td>5.036377</td>\n",
       "      <td>2009-08-24</td>\n",
       "      <td>8</td>\n",
       "      <td>2009</td>\n",
       "      <td>0</td>\n",
       "      <td>Monday</td>\n",
       "      <td>21:45:00</td>\n",
       "      <td>21</td>\n",
       "    </tr>\n",
       "    <tr>\n",
       "      <th>3</th>\n",
       "      <td>5.3</td>\n",
       "      <td>2009-06-26 08:22:21+00:00</td>\n",
       "      <td>-73.976124</td>\n",
       "      <td>40.790844</td>\n",
       "      <td>-73.965316</td>\n",
       "      <td>40.803349</td>\n",
       "      <td>3</td>\n",
       "      <td>1.661683</td>\n",
       "      <td>2009-06-26</td>\n",
       "      <td>6</td>\n",
       "      <td>2009</td>\n",
       "      <td>4</td>\n",
       "      <td>Friday</td>\n",
       "      <td>08:22:21</td>\n",
       "      <td>8</td>\n",
       "    </tr>\n",
       "    <tr>\n",
       "      <th>4</th>\n",
       "      <td>16.0</td>\n",
       "      <td>2014-08-28 17:47:00+00:00</td>\n",
       "      <td>-73.925023</td>\n",
       "      <td>40.744085</td>\n",
       "      <td>-73.973082</td>\n",
       "      <td>40.761247</td>\n",
       "      <td>5</td>\n",
       "      <td>4.475450</td>\n",
       "      <td>2014-08-28</td>\n",
       "      <td>8</td>\n",
       "      <td>2014</td>\n",
       "      <td>3</td>\n",
       "      <td>Thursday</td>\n",
       "      <td>17:47:00</td>\n",
       "      <td>17</td>\n",
       "    </tr>\n",
       "  </tbody>\n",
       "</table>\n",
       "</div>"
      ],
      "text/plain": [
       "   fare_amount           pickup_datetime  pickup_longitude  pickup_latitude  \\\n",
       "0          7.5 2015-05-07 19:52:06+00:00        -73.999817        40.738354   \n",
       "1          7.7 2009-07-17 20:04:56+00:00        -73.994355        40.728225   \n",
       "2         12.9 2009-08-24 21:45:00+00:00        -74.005043        40.740770   \n",
       "3          5.3 2009-06-26 08:22:21+00:00        -73.976124        40.790844   \n",
       "4         16.0 2014-08-28 17:47:00+00:00        -73.925023        40.744085   \n",
       "\n",
       "   dropoff_longitude  dropoff_latitude  passenger_count  distance_travelled  \\\n",
       "0         -73.999512         40.723217                1            1.683323   \n",
       "1         -73.994710         40.750325                1            2.457590   \n",
       "2         -73.962565         40.772647                1            5.036377   \n",
       "3         -73.965316         40.803349                3            1.661683   \n",
       "4         -73.973082         40.761247                5            4.475450   \n",
       "\n",
       "         date  month  year  day_of_the_week  day_name pickup_time  pickup_hour  \n",
       "0  2015-05-07      5  2015                3  Thursday    19:52:06           19  \n",
       "1  2009-07-17      7  2009                4    Friday    20:04:56           20  \n",
       "2  2009-08-24      8  2009                0    Monday    21:45:00           21  \n",
       "3  2009-06-26      6  2009                4    Friday    08:22:21            8  \n",
       "4  2014-08-28      8  2014                3  Thursday    17:47:00           17  "
      ]
     },
     "execution_count": 23,
     "metadata": {},
     "output_type": "execute_result"
    }
   ],
   "source": [
    "df1.head()"
   ]
  },
  {
   "cell_type": "code",
   "execution_count": 24,
   "metadata": {
    "execution": {
     "iopub.execute_input": "2023-01-16T01:31:00.452273Z",
     "iopub.status.busy": "2023-01-16T01:31:00.451749Z",
     "iopub.status.idle": "2023-01-16T01:31:00.584164Z",
     "shell.execute_reply": "2023-01-16T01:31:00.583014Z",
     "shell.execute_reply.started": "2023-01-16T01:31:00.452223Z"
    },
    "scrolled": true
   },
   "outputs": [
    {
     "data": {
      "text/html": [
       "<div>\n",
       "<style scoped>\n",
       "    .dataframe tbody tr th:only-of-type {\n",
       "        vertical-align: middle;\n",
       "    }\n",
       "\n",
       "    .dataframe tbody tr th {\n",
       "        vertical-align: top;\n",
       "    }\n",
       "\n",
       "    .dataframe thead th {\n",
       "        text-align: right;\n",
       "    }\n",
       "</style>\n",
       "<table border=\"1\" class=\"dataframe\">\n",
       "  <thead>\n",
       "    <tr style=\"text-align: right;\">\n",
       "      <th></th>\n",
       "      <th>count</th>\n",
       "      <th>mean</th>\n",
       "      <th>std</th>\n",
       "      <th>min</th>\n",
       "      <th>25%</th>\n",
       "      <th>50%</th>\n",
       "      <th>75%</th>\n",
       "      <th>max</th>\n",
       "    </tr>\n",
       "  </thead>\n",
       "  <tbody>\n",
       "    <tr>\n",
       "      <th>fare_amount</th>\n",
       "      <td>199999.0</td>\n",
       "      <td>11.359892</td>\n",
       "      <td>9.901760</td>\n",
       "      <td>-52.000000</td>\n",
       "      <td>6.000000</td>\n",
       "      <td>8.500000</td>\n",
       "      <td>12.500000</td>\n",
       "      <td>499.000000</td>\n",
       "    </tr>\n",
       "    <tr>\n",
       "      <th>pickup_longitude</th>\n",
       "      <td>199999.0</td>\n",
       "      <td>-72.527631</td>\n",
       "      <td>11.437815</td>\n",
       "      <td>-1340.648410</td>\n",
       "      <td>-73.992065</td>\n",
       "      <td>-73.981823</td>\n",
       "      <td>-73.967154</td>\n",
       "      <td>57.418457</td>\n",
       "    </tr>\n",
       "    <tr>\n",
       "      <th>pickup_latitude</th>\n",
       "      <td>199999.0</td>\n",
       "      <td>39.935881</td>\n",
       "      <td>7.720558</td>\n",
       "      <td>-74.015515</td>\n",
       "      <td>40.734796</td>\n",
       "      <td>40.752592</td>\n",
       "      <td>40.767158</td>\n",
       "      <td>1644.421482</td>\n",
       "    </tr>\n",
       "    <tr>\n",
       "      <th>dropoff_longitude</th>\n",
       "      <td>199999.0</td>\n",
       "      <td>-72.525292</td>\n",
       "      <td>13.117408</td>\n",
       "      <td>-3356.666300</td>\n",
       "      <td>-73.991407</td>\n",
       "      <td>-73.980093</td>\n",
       "      <td>-73.963658</td>\n",
       "      <td>1153.572603</td>\n",
       "    </tr>\n",
       "    <tr>\n",
       "      <th>dropoff_latitude</th>\n",
       "      <td>199999.0</td>\n",
       "      <td>39.923890</td>\n",
       "      <td>6.794829</td>\n",
       "      <td>-881.985513</td>\n",
       "      <td>40.733823</td>\n",
       "      <td>40.753042</td>\n",
       "      <td>40.768001</td>\n",
       "      <td>872.697628</td>\n",
       "    </tr>\n",
       "    <tr>\n",
       "      <th>passenger_count</th>\n",
       "      <td>199999.0</td>\n",
       "      <td>1.684543</td>\n",
       "      <td>1.385995</td>\n",
       "      <td>0.000000</td>\n",
       "      <td>1.000000</td>\n",
       "      <td>1.000000</td>\n",
       "      <td>2.000000</td>\n",
       "      <td>208.000000</td>\n",
       "    </tr>\n",
       "    <tr>\n",
       "      <th>distance_travelled</th>\n",
       "      <td>199999.0</td>\n",
       "      <td>20.855350</td>\n",
       "      <td>382.964642</td>\n",
       "      <td>0.000000</td>\n",
       "      <td>1.215222</td>\n",
       "      <td>2.120992</td>\n",
       "      <td>3.875169</td>\n",
       "      <td>16409.239135</td>\n",
       "    </tr>\n",
       "    <tr>\n",
       "      <th>month</th>\n",
       "      <td>199999.0</td>\n",
       "      <td>6.281791</td>\n",
       "      <td>3.438933</td>\n",
       "      <td>1.000000</td>\n",
       "      <td>3.000000</td>\n",
       "      <td>6.000000</td>\n",
       "      <td>9.000000</td>\n",
       "      <td>12.000000</td>\n",
       "    </tr>\n",
       "    <tr>\n",
       "      <th>year</th>\n",
       "      <td>199999.0</td>\n",
       "      <td>2011.742434</td>\n",
       "      <td>1.856400</td>\n",
       "      <td>2009.000000</td>\n",
       "      <td>2010.000000</td>\n",
       "      <td>2012.000000</td>\n",
       "      <td>2013.000000</td>\n",
       "      <td>2015.000000</td>\n",
       "    </tr>\n",
       "    <tr>\n",
       "      <th>day_of_the_week</th>\n",
       "      <td>199999.0</td>\n",
       "      <td>3.048435</td>\n",
       "      <td>1.946946</td>\n",
       "      <td>0.000000</td>\n",
       "      <td>1.000000</td>\n",
       "      <td>3.000000</td>\n",
       "      <td>5.000000</td>\n",
       "      <td>6.000000</td>\n",
       "    </tr>\n",
       "    <tr>\n",
       "      <th>pickup_hour</th>\n",
       "      <td>199999.0</td>\n",
       "      <td>13.491387</td>\n",
       "      <td>6.515505</td>\n",
       "      <td>0.000000</td>\n",
       "      <td>9.000000</td>\n",
       "      <td>14.000000</td>\n",
       "      <td>19.000000</td>\n",
       "      <td>23.000000</td>\n",
       "    </tr>\n",
       "  </tbody>\n",
       "</table>\n",
       "</div>"
      ],
      "text/plain": [
       "                       count         mean         std          min  \\\n",
       "fare_amount         199999.0    11.359892    9.901760   -52.000000   \n",
       "pickup_longitude    199999.0   -72.527631   11.437815 -1340.648410   \n",
       "pickup_latitude     199999.0    39.935881    7.720558   -74.015515   \n",
       "dropoff_longitude   199999.0   -72.525292   13.117408 -3356.666300   \n",
       "dropoff_latitude    199999.0    39.923890    6.794829  -881.985513   \n",
       "passenger_count     199999.0     1.684543    1.385995     0.000000   \n",
       "distance_travelled  199999.0    20.855350  382.964642     0.000000   \n",
       "month               199999.0     6.281791    3.438933     1.000000   \n",
       "year                199999.0  2011.742434    1.856400  2009.000000   \n",
       "day_of_the_week     199999.0     3.048435    1.946946     0.000000   \n",
       "pickup_hour         199999.0    13.491387    6.515505     0.000000   \n",
       "\n",
       "                            25%          50%          75%           max  \n",
       "fare_amount            6.000000     8.500000    12.500000    499.000000  \n",
       "pickup_longitude     -73.992065   -73.981823   -73.967154     57.418457  \n",
       "pickup_latitude       40.734796    40.752592    40.767158   1644.421482  \n",
       "dropoff_longitude    -73.991407   -73.980093   -73.963658   1153.572603  \n",
       "dropoff_latitude      40.733823    40.753042    40.768001    872.697628  \n",
       "passenger_count        1.000000     1.000000     2.000000    208.000000  \n",
       "distance_travelled     1.215222     2.120992     3.875169  16409.239135  \n",
       "month                  3.000000     6.000000     9.000000     12.000000  \n",
       "year                2010.000000  2012.000000  2013.000000   2015.000000  \n",
       "day_of_the_week        1.000000     3.000000     5.000000      6.000000  \n",
       "pickup_hour            9.000000    14.000000    19.000000     23.000000  "
      ]
     },
     "execution_count": 24,
     "metadata": {},
     "output_type": "execute_result"
    }
   ],
   "source": [
    "df1.describe().T"
   ]
  },
  {
   "cell_type": "code",
   "execution_count": 25,
   "metadata": {
    "execution": {
     "iopub.execute_input": "2023-01-16T01:31:00.586013Z",
     "iopub.status.busy": "2023-01-16T01:31:00.585617Z",
     "iopub.status.idle": "2023-01-16T01:31:00.594489Z",
     "shell.execute_reply": "2023-01-16T01:31:00.593319Z",
     "shell.execute_reply.started": "2023-01-16T01:31:00.58598Z"
    }
   },
   "outputs": [],
   "source": [
    "# Dropping the columns 'pickup datetime' and 'pickup hour' as we have extracted relvant pieces of information\n",
    "# from these columns and do not need these columns for our analysis now. Also, 'date' and 'day_name', month and yuear\n",
    "# as well as pickup and dropoff coordinates are not required as we have the required data extracted from them\n",
    "\n",
    "df1 = df1.drop(['pickup_datetime','pickup_time', 'date', 'pickup_longitude', 'pickup_latitude',\n",
    "                  'dropoff_longitude', 'dropoff_latitude', 'day_name'],axis=1)"
   ]
  },
  {
   "cell_type": "code",
   "execution_count": 26,
   "metadata": {
    "execution": {
     "iopub.execute_input": "2023-01-16T01:31:00.596476Z",
     "iopub.status.busy": "2023-01-16T01:31:00.596005Z",
     "iopub.status.idle": "2023-01-16T01:31:00.620379Z",
     "shell.execute_reply": "2023-01-16T01:31:00.619161Z",
     "shell.execute_reply.started": "2023-01-16T01:31:00.596443Z"
    }
   },
   "outputs": [
    {
     "name": "stdout",
     "output_type": "stream",
     "text": [
      "<class 'pandas.core.frame.DataFrame'>\n",
      "Int64Index: 199999 entries, 0 to 199999\n",
      "Data columns (total 7 columns):\n",
      " #   Column              Non-Null Count   Dtype  \n",
      "---  ------              --------------   -----  \n",
      " 0   fare_amount         199999 non-null  float64\n",
      " 1   passenger_count     199999 non-null  int64  \n",
      " 2   distance_travelled  199999 non-null  float64\n",
      " 3   month               199999 non-null  int64  \n",
      " 4   year                199999 non-null  int64  \n",
      " 5   day_of_the_week     199999 non-null  int64  \n",
      " 6   pickup_hour         199999 non-null  int64  \n",
      "dtypes: float64(2), int64(5)\n",
      "memory usage: 12.2 MB\n"
     ]
    }
   ],
   "source": [
    "df1.info()"
   ]
  },
  {
   "cell_type": "markdown",
   "metadata": {},
   "source": [
    "# Numerical Features - Univariate Analysis"
   ]
  },
  {
   "cell_type": "markdown",
   "metadata": {},
   "source": [
    "## Boxplot & Histogram"
   ]
  },
  {
   "cell_type": "markdown",
   "metadata": {},
   "source": [
    "### Distance"
   ]
  },
  {
   "cell_type": "code",
   "execution_count": 129,
   "metadata": {},
   "outputs": [
    {
     "data": {
      "text/html": [
       "<div>\n",
       "<style scoped>\n",
       "    .dataframe tbody tr th:only-of-type {\n",
       "        vertical-align: middle;\n",
       "    }\n",
       "\n",
       "    .dataframe tbody tr th {\n",
       "        vertical-align: top;\n",
       "    }\n",
       "\n",
       "    .dataframe thead th {\n",
       "        text-align: right;\n",
       "    }\n",
       "</style>\n",
       "<table border=\"1\" class=\"dataframe\">\n",
       "  <thead>\n",
       "    <tr style=\"text-align: right;\">\n",
       "      <th></th>\n",
       "      <th>fare_amount</th>\n",
       "      <th>passenger_count</th>\n",
       "      <th>distance_travelled</th>\n",
       "      <th>month</th>\n",
       "      <th>year</th>\n",
       "      <th>day_of_the_week</th>\n",
       "      <th>pickup_hour</th>\n",
       "    </tr>\n",
       "  </thead>\n",
       "  <tbody>\n",
       "    <tr>\n",
       "      <th>0</th>\n",
       "      <td>7.5</td>\n",
       "      <td>1</td>\n",
       "      <td>1.683323</td>\n",
       "      <td>5</td>\n",
       "      <td>2015</td>\n",
       "      <td>3</td>\n",
       "      <td>19</td>\n",
       "    </tr>\n",
       "    <tr>\n",
       "      <th>1</th>\n",
       "      <td>7.7</td>\n",
       "      <td>1</td>\n",
       "      <td>2.457590</td>\n",
       "      <td>7</td>\n",
       "      <td>2009</td>\n",
       "      <td>4</td>\n",
       "      <td>20</td>\n",
       "    </tr>\n",
       "    <tr>\n",
       "      <th>2</th>\n",
       "      <td>12.9</td>\n",
       "      <td>1</td>\n",
       "      <td>5.036377</td>\n",
       "      <td>8</td>\n",
       "      <td>2009</td>\n",
       "      <td>0</td>\n",
       "      <td>21</td>\n",
       "    </tr>\n",
       "    <tr>\n",
       "      <th>3</th>\n",
       "      <td>5.3</td>\n",
       "      <td>3</td>\n",
       "      <td>1.661683</td>\n",
       "      <td>6</td>\n",
       "      <td>2009</td>\n",
       "      <td>4</td>\n",
       "      <td>8</td>\n",
       "    </tr>\n",
       "    <tr>\n",
       "      <th>4</th>\n",
       "      <td>16.0</td>\n",
       "      <td>5</td>\n",
       "      <td>4.475450</td>\n",
       "      <td>8</td>\n",
       "      <td>2014</td>\n",
       "      <td>3</td>\n",
       "      <td>17</td>\n",
       "    </tr>\n",
       "  </tbody>\n",
       "</table>\n",
       "</div>"
      ],
      "text/plain": [
       "   fare_amount  passenger_count  distance_travelled  month  year  \\\n",
       "0          7.5                1            1.683323      5  2015   \n",
       "1          7.7                1            2.457590      7  2009   \n",
       "2         12.9                1            5.036377      8  2009   \n",
       "3          5.3                3            1.661683      6  2009   \n",
       "4         16.0                5            4.475450      8  2014   \n",
       "\n",
       "   day_of_the_week  pickup_hour  \n",
       "0                3           19  \n",
       "1                4           20  \n",
       "2                0           21  \n",
       "3                4            8  \n",
       "4                3           17  "
      ]
     },
     "execution_count": 129,
     "metadata": {},
     "output_type": "execute_result"
    }
   ],
   "source": [
    "df1.head()"
   ]
  },
  {
   "cell_type": "code",
   "execution_count": 47,
   "metadata": {
    "execution": {
     "iopub.execute_input": "2023-01-16T01:31:00.622262Z",
     "iopub.status.busy": "2023-01-16T01:31:00.621794Z",
     "iopub.status.idle": "2023-01-16T01:31:00.857618Z",
     "shell.execute_reply": "2023-01-16T01:31:00.856359Z",
     "shell.execute_reply.started": "2023-01-16T01:31:00.622227Z"
    },
    "scrolled": true
   },
   "outputs": [
    {
     "data": {
      "text/plain": [
       "<AxesSubplot:xlabel='distance_travelled'>"
      ]
     },
     "execution_count": 47,
     "metadata": {},
     "output_type": "execute_result"
    },
    {
     "data": {
      "image/png": "[encoded data removed]",
      "text/plain": [
       "<Figure size 1080x576 with 1 Axes>"
      ]
     },
     "metadata": {},
     "output_type": "display_data"
    }
   ],
   "source": [
    "sns.boxplot(x=df1['distance_travelled'])"
   ]
  },
  {
   "cell_type": "code",
   "execution_count": 48,
   "metadata": {
    "execution": {
     "iopub.execute_input": "2023-01-16T01:31:00.859688Z",
     "iopub.status.busy": "2023-01-16T01:31:00.859322Z",
     "iopub.status.idle": "2023-01-16T01:31:01.097626Z",
     "shell.execute_reply": "2023-01-16T01:31:01.096461Z",
     "shell.execute_reply.started": "2023-01-16T01:31:00.859647Z"
    }
   },
   "outputs": [
    {
     "data": {
      "image/png": "[encoded data removed]",
      "text/plain": [
       "<Figure size 1080x576 with 1 Axes>"
      ]
     },
     "metadata": {},
     "output_type": "display_data"
    }
   ],
   "source": [
    "hist = plt.hist(x=df1['distance_travelled'], density = True)\n",
    "plt.axvline(df1['distance_travelled'].mean(), color = 'red', linestyle='--')\n",
    "plt.axvline(df1['distance_travelled'].median(), color = 'black', linestyle='-')\n",
    "plt.show()"
   ]
  },
  {
   "cell_type": "markdown",
   "metadata": {},
   "source": [
    "Observations:\n",
    "- Negatively Skewed\n",
    "- Outliers on the left end\n",
    "- Mean and Median are close"
   ]
  },
  {
   "cell_type": "markdown",
   "metadata": {},
   "source": [
    "# Categorical Features - Univariate Analysis"
   ]
  },
  {
   "cell_type": "markdown",
   "metadata": {},
   "source": [
    "### Passenger Count"
   ]
  },
  {
   "cell_type": "code",
   "execution_count": 34,
   "metadata": {},
   "outputs": [
    {
     "data": {
      "text/plain": [
       "1      0.692128\n",
       "2      0.147141\n",
       "5      0.070045\n",
       "3      0.044405\n",
       "4      0.021380\n",
       "6      0.021355\n",
       "0      0.003540\n",
       "208    0.000005\n",
       "Name: passenger_count, dtype: float64"
      ]
     },
     "execution_count": 34,
     "metadata": {},
     "output_type": "execute_result"
    }
   ],
   "source": [
    "df1['passenger_count'].value_counts(normalize = True)"
   ]
  },
  {
   "cell_type": "code",
   "execution_count": 49,
   "metadata": {
    "execution": {
     "iopub.execute_input": "2023-01-16T01:31:01.099337Z",
     "iopub.status.busy": "2023-01-16T01:31:01.098937Z",
     "iopub.status.idle": "2023-01-16T01:31:01.312698Z",
     "shell.execute_reply": "2023-01-16T01:31:01.311676Z",
     "shell.execute_reply.started": "2023-01-16T01:31:01.099301Z"
    },
    "scrolled": false
   },
   "outputs": [
    {
     "data": {
      "image/png": "[encoded data removed]",
      "text/plain": [
       "<Figure size 1080x576 with 1 Axes>"
      ]
     },
     "metadata": {},
     "output_type": "display_data"
    }
   ],
   "source": [
    "df1['passenger_count'].value_counts(normalize = True).plot.bar()\n",
    "plt.xticks(rotation = 0)\n",
    "plt.show()"
   ]
  },
  {
   "cell_type": "markdown",
   "metadata": {},
   "source": [
    "Observation:\n",
    "- Almost 70% of trips had only 1 passanger"
   ]
  },
  {
   "cell_type": "markdown",
   "metadata": {},
   "source": [
    "### Day of the week"
   ]
  },
  {
   "cell_type": "code",
   "execution_count": 50,
   "metadata": {
    "execution": {
     "iopub.execute_input": "2023-01-16T01:31:01.314294Z",
     "iopub.status.busy": "2023-01-16T01:31:01.313918Z",
     "iopub.status.idle": "2023-01-16T01:31:01.537594Z",
     "shell.execute_reply": "2023-01-16T01:31:01.536407Z",
     "shell.execute_reply.started": "2023-01-16T01:31:01.314258Z"
    },
    "scrolled": true
   },
   "outputs": [
    {
     "data": {
      "image/png": "[encoded data removed]",
      "text/plain": [
       "<Figure size 1080x576 with 1 Axes>"
      ]
     },
     "metadata": {},
     "output_type": "display_data"
    }
   ],
   "source": [
    "df1['day_of_the_week'].value_counts(normalize = True).plot.bar()\n",
    "plt.xticks(rotation = 0)\n",
    "plt.show()"
   ]
  },
  {
   "cell_type": "markdown",
   "metadata": {},
   "source": [
    "Observation:\n",
    "- As expected weekend eve is, Friday and Saturday had the highest number of trips"
   ]
  },
  {
   "cell_type": "markdown",
   "metadata": {},
   "source": [
    "### Pickup Time"
   ]
  },
  {
   "cell_type": "code",
   "execution_count": 51,
   "metadata": {
    "execution": {
     "iopub.execute_input": "2023-01-16T01:31:01.539425Z",
     "iopub.status.busy": "2023-01-16T01:31:01.539031Z",
     "iopub.status.idle": "2023-01-16T01:31:01.860671Z",
     "shell.execute_reply": "2023-01-16T01:31:01.859306Z",
     "shell.execute_reply.started": "2023-01-16T01:31:01.539391Z"
    },
    "scrolled": true
   },
   "outputs": [
    {
     "data": {
      "image/png": "[encoded data removed]",
      "text/plain": [
       "<Figure size 1080x576 with 1 Axes>"
      ]
     },
     "metadata": {},
     "output_type": "display_data"
    }
   ],
   "source": [
    "df1['pickup_hour'].value_counts(normalize = True).plot.bar()\n",
    "plt.xticks(rotation = 0)\n",
    "plt.show()"
   ]
  },
  {
   "cell_type": "markdown",
   "metadata": {},
   "source": [
    "Observation:\n",
    "- As expected, the number of trips are low during 1am - 5am, and peak between 7pm - 9pm"
   ]
  },
  {
   "cell_type": "markdown",
   "metadata": {},
   "source": [
    "We can clearly see that during weekdays, peak hours are during the day while on weekends, peak hours are late in the night"
   ]
  },
  {
   "cell_type": "markdown",
   "metadata": {},
   "source": [
    "# Bivariate / Multivariate Analysis"
   ]
  },
  {
   "cell_type": "code",
   "execution_count": 53,
   "metadata": {
    "execution": {
     "iopub.execute_input": "2023-01-16T01:31:03.268453Z",
     "iopub.status.busy": "2023-01-16T01:31:03.268029Z",
     "iopub.status.idle": "2023-01-16T01:31:03.792582Z",
     "shell.execute_reply": "2023-01-16T01:31:03.791289Z",
     "shell.execute_reply.started": "2023-01-16T01:31:03.268417Z"
    }
   },
   "outputs": [
    {
     "data": {
      "image/png": "[encoded data removed]",
      "text/plain": [
       "<Figure size 1080x576 with 1 Axes>"
      ]
     },
     "metadata": {},
     "output_type": "display_data"
    }
   ],
   "source": [
    "#Scatte plot of distance vs fare amount\n",
    "sns.scatterplot(x = df1.distance_travelled, y = df1.fare_amount)\n",
    "plt.show()"
   ]
  },
  {
   "cell_type": "markdown",
   "metadata": {},
   "source": [
    "Generally, as distance increases, the fare amount also increases with a few sporadic inconsistencies"
   ]
  },
  {
   "cell_type": "code",
   "execution_count": 42,
   "metadata": {
    "execution": {
     "iopub.execute_input": "2023-01-16T01:31:03.796515Z",
     "iopub.status.busy": "2023-01-16T01:31:03.79613Z",
     "iopub.status.idle": "2023-01-16T01:31:04.29906Z",
     "shell.execute_reply": "2023-01-16T01:31:04.298177Z",
     "shell.execute_reply.started": "2023-01-16T01:31:03.796482Z"
    }
   },
   "outputs": [
    {
     "data": {
      "image/png": "[encoded data removed]",
      "text/plain": [
       "<Figure size 1080x576 with 1 Axes>"
      ]
     },
     "metadata": {
      "needs_background": "light"
     },
     "output_type": "display_data"
    }
   ],
   "source": [
    "#Scatter plot of day of the week vs fare amount\n",
    "sns.scatterplot(x = df1.day_of_the_week, y = df1.fare_amount)\n",
    "plt.show()"
   ]
  },
  {
   "cell_type": "markdown",
   "metadata": {},
   "source": [
    "Generally speaking, weekend fares are higher than weekday fares. This could be due to distance travelled or due to peak hours"
   ]
  },
  {
   "cell_type": "code",
   "execution_count": 54,
   "metadata": {
    "execution": {
     "iopub.execute_input": "2023-01-16T01:31:04.301368Z",
     "iopub.status.busy": "2023-01-16T01:31:04.300416Z",
     "iopub.status.idle": "2023-01-16T01:31:04.811854Z",
     "shell.execute_reply": "2023-01-16T01:31:04.810644Z",
     "shell.execute_reply.started": "2023-01-16T01:31:04.301321Z"
    }
   },
   "outputs": [
    {
     "data": {
      "image/png": "[encoded data removed]",
      "text/plain": [
       "<Figure size 1080x576 with 1 Axes>"
      ]
     },
     "metadata": {},
     "output_type": "display_data"
    }
   ],
   "source": [
    "#Scatte plot of day of the week vs distance to see if there is any relationship between them\n",
    "sns.scatterplot(x = df1.day_of_the_week, y = df1.distance_travelled)\n",
    "plt.show()"
   ]
  },
  {
   "cell_type": "markdown",
   "metadata": {},
   "source": [
    "We see that there isn;t much of a relationship between distance travelled vs fay of the week - thus, it is appears that fare amount being higher on weekends has a high likelihood of being linked to peak hours / wait time due to higher traffic.\n",
    "\n",
    "Unfortunately, we do not have the dropoff time for each ride to be able to ascertain the time of each trip and demonstrate if we can see a relationship between fare and time travelled"
   ]
  },
  {
   "cell_type": "code",
   "execution_count": 55,
   "metadata": {
    "execution": {
     "iopub.execute_input": "2023-01-16T01:31:04.814236Z",
     "iopub.status.busy": "2023-01-16T01:31:04.813755Z",
     "iopub.status.idle": "2023-01-16T01:31:05.362761Z",
     "shell.execute_reply": "2023-01-16T01:31:05.361642Z",
     "shell.execute_reply.started": "2023-01-16T01:31:04.81419Z"
    }
   },
   "outputs": [
    {
     "data": {
      "image/png": "[encoded data removed]",
      "text/plain": [
       "<Figure size 1080x576 with 1 Axes>"
      ]
     },
     "metadata": {},
     "output_type": "display_data"
    }
   ],
   "source": [
    "#Scatter plot of pickup time vs fare amount\n",
    "sns.scatterplot(x = df1.pickup_hour, y = df1.fare_amount)\n",
    "plt.show()"
   ]
  },
  {
   "cell_type": "markdown",
   "metadata": {},
   "source": [
    "We do see some pickup times having a greater % of higher fares as compared to others - however, it is difficult to draw a concluding relationship"
   ]
  },
  {
   "cell_type": "code",
   "execution_count": 56,
   "metadata": {
    "execution": {
     "iopub.execute_input": "2023-01-16T01:31:05.36444Z",
     "iopub.status.busy": "2023-01-16T01:31:05.364058Z",
     "iopub.status.idle": "2023-01-16T01:31:05.906556Z",
     "shell.execute_reply": "2023-01-16T01:31:05.905248Z",
     "shell.execute_reply.started": "2023-01-16T01:31:05.364396Z"
    }
   },
   "outputs": [
    {
     "data": {
      "image/png": "[encoded data removed]",
      "text/plain": [
       "<Figure size 1080x576 with 1 Axes>"
      ]
     },
     "metadata": {},
     "output_type": "display_data"
    }
   ],
   "source": [
    "#Scatter plot of pickup time vs distance\n",
    "sns.scatterplot(x = df1.pickup_hour, y = df1.distance_travelled)\n",
    "plt.show()"
   ]
  },
  {
   "cell_type": "markdown",
   "metadata": {},
   "source": [
    "Some pickup hours have a greater concentration of trips where a high distance was travelled as compared to others"
   ]
  },
  {
   "cell_type": "markdown",
   "metadata": {},
   "source": [
    "### Data Preparatrion"
   ]
  },
  {
   "cell_type": "markdown",
   "metadata": {},
   "source": [
    "### Feature Scaling"
   ]
  },
  {
   "cell_type": "markdown",
   "metadata": {},
   "source": [
    "Feature Scaling is required because of two reasons:\n",
    "1. The data points are far from each other. This means that in some columns, the distance between data points is a lot\n",
    "2. Some of the features have a unit while other features are unitless. Thereofre, it is important to make all features unitless"
   ]
  },
  {
   "cell_type": "code",
   "execution_count": 57,
   "metadata": {
    "execution": {
     "iopub.execute_input": "2023-01-16T01:31:05.962045Z",
     "iopub.status.busy": "2023-01-16T01:31:05.961571Z",
     "iopub.status.idle": "2023-01-16T01:31:05.96957Z",
     "shell.execute_reply": "2023-01-16T01:31:05.968196Z",
     "shell.execute_reply.started": "2023-01-16T01:31:05.961999Z"
    }
   },
   "outputs": [],
   "source": [
    "ss = StandardScaler()"
   ]
  },
  {
   "cell_type": "code",
   "execution_count": 58,
   "metadata": {
    "execution": {
     "iopub.execute_input": "2023-01-16T01:31:05.979938Z",
     "iopub.status.busy": "2023-01-16T01:31:05.97955Z",
     "iopub.status.idle": "2023-01-16T01:31:05.988511Z",
     "shell.execute_reply": "2023-01-16T01:31:05.986929Z",
     "shell.execute_reply.started": "2023-01-16T01:31:05.979906Z"
    }
   },
   "outputs": [],
   "source": [
    "x = df1.drop(['fare_amount'], axis = 1)\n",
    "y = df1['fare_amount'].values.reshape(-1, 1)"
   ]
  },
  {
   "cell_type": "code",
   "execution_count": 59,
   "metadata": {
    "execution": {
     "iopub.execute_input": "2023-01-16T01:31:05.990309Z",
     "iopub.status.busy": "2023-01-16T01:31:05.989937Z",
     "iopub.status.idle": "2023-01-16T01:31:06.031608Z",
     "shell.execute_reply": "2023-01-16T01:31:06.030455Z",
     "shell.execute_reply.started": "2023-01-16T01:31:05.990274Z"
    }
   },
   "outputs": [],
   "source": [
    "y_std = ss.fit_transform(y)\n",
    "\n",
    "x_std = ss.fit_transform(x)"
   ]
  },
  {
   "cell_type": "code",
   "execution_count": 60,
   "metadata": {
    "execution": {
     "iopub.execute_input": "2023-01-16T01:31:06.033231Z",
     "iopub.status.busy": "2023-01-16T01:31:06.032859Z",
     "iopub.status.idle": "2023-01-16T01:31:06.065255Z",
     "shell.execute_reply": "2023-01-16T01:31:06.064012Z",
     "shell.execute_reply.started": "2023-01-16T01:31:06.033187Z"
    }
   },
   "outputs": [],
   "source": [
    "x_train, x_test, y_train, y_test = train_test_split(x_std, y_std, test_size = 0.3, random_state = 42)"
   ]
  },
  {
   "cell_type": "code",
   "execution_count": 61,
   "metadata": {
    "execution": {
     "iopub.execute_input": "2023-01-16T01:31:06.066961Z",
     "iopub.status.busy": "2023-01-16T01:31:06.066608Z",
     "iopub.status.idle": "2023-01-16T01:31:06.07371Z",
     "shell.execute_reply": "2023-01-16T01:31:06.072804Z",
     "shell.execute_reply.started": "2023-01-16T01:31:06.066926Z"
    }
   },
   "outputs": [
    {
     "data": {
      "text/plain": [
       "(139999, 6)"
      ]
     },
     "execution_count": 61,
     "metadata": {},
     "output_type": "execute_result"
    }
   ],
   "source": [
    "x_train.shape"
   ]
  },
  {
   "cell_type": "code",
   "execution_count": 62,
   "metadata": {
    "execution": {
     "iopub.execute_input": "2023-01-16T01:31:06.075553Z",
     "iopub.status.busy": "2023-01-16T01:31:06.074837Z",
     "iopub.status.idle": "2023-01-16T01:31:06.087782Z",
     "shell.execute_reply": "2023-01-16T01:31:06.086475Z",
     "shell.execute_reply.started": "2023-01-16T01:31:06.075517Z"
    }
   },
   "outputs": [
    {
     "data": {
      "text/plain": [
       "(139999, 1)"
      ]
     },
     "execution_count": 62,
     "metadata": {},
     "output_type": "execute_result"
    }
   ],
   "source": [
    "y_train.shape"
   ]
  },
  {
   "cell_type": "code",
   "execution_count": 63,
   "metadata": {
    "execution": {
     "iopub.execute_input": "2023-01-16T01:31:06.09022Z",
     "iopub.status.busy": "2023-01-16T01:31:06.089251Z",
     "iopub.status.idle": "2023-01-16T01:31:06.101171Z",
     "shell.execute_reply": "2023-01-16T01:31:06.099843Z",
     "shell.execute_reply.started": "2023-01-16T01:31:06.090095Z"
    }
   },
   "outputs": [
    {
     "data": {
      "text/plain": [
       "(60000, 6)"
      ]
     },
     "execution_count": 63,
     "metadata": {},
     "output_type": "execute_result"
    }
   ],
   "source": [
    "x_test.shape"
   ]
  },
  {
   "cell_type": "code",
   "execution_count": 64,
   "metadata": {
    "execution": {
     "iopub.execute_input": "2023-01-16T01:31:06.103233Z",
     "iopub.status.busy": "2023-01-16T01:31:06.102822Z",
     "iopub.status.idle": "2023-01-16T01:31:06.111938Z",
     "shell.execute_reply": "2023-01-16T01:31:06.110961Z",
     "shell.execute_reply.started": "2023-01-16T01:31:06.103197Z"
    }
   },
   "outputs": [
    {
     "data": {
      "text/plain": [
       "(60000, 1)"
      ]
     },
     "execution_count": 64,
     "metadata": {},
     "output_type": "execute_result"
    }
   ],
   "source": [
    "y_test.shape"
   ]
  },
  {
   "cell_type": "markdown",
   "metadata": {},
   "source": [
    "# Regression Models"
   ]
  },
  {
   "cell_type": "markdown",
   "metadata": {},
   "source": [
    "## Linear Regression"
   ]
  },
  {
   "cell_type": "code",
   "execution_count": 65,
   "metadata": {
    "execution": {
     "iopub.execute_input": "2023-01-16T01:31:06.125693Z",
     "iopub.status.busy": "2023-01-16T01:31:06.125317Z",
     "iopub.status.idle": "2023-01-16T01:31:06.173762Z",
     "shell.execute_reply": "2023-01-16T01:31:06.172425Z",
     "shell.execute_reply.started": "2023-01-16T01:31:06.125657Z"
    }
   },
   "outputs": [
    {
     "data": {
      "text/html": [
       "<style>#sk-container-id-1 {color: black;background-color: white;}#sk-container-id-1 pre{padding: 0;}#sk-container-id-1 div.sk-toggleable {background-color: white;}#sk-container-id-1 label.sk-toggleable__label {cursor: pointer;display: block;width: 100%;margin-bottom: 0;padding: 0.3em;box-sizing: border-box;text-align: center;}#sk-container-id-1 label.sk-toggleable__label-arrow:before {content: \"▸\";float: left;margin-right: 0.25em;color: #696969;}#sk-container-id-1 label.sk-toggleable__label-arrow:hover:before {color: black;}#sk-container-id-1 div.sk-estimator:hover label.sk-toggleable__label-arrow:before {color: black;}#sk-container-id-1 div.sk-toggleable__content {max-height: 0;max-width: 0;overflow: hidden;text-align: left;background-color: #f0f8ff;}#sk-container-id-1 div.sk-toggleable__content pre {margin: 0.2em;color: black;border-radius: 0.25em;background-color: #f0f8ff;}#sk-container-id-1 input.sk-toggleable__control:checked~div.sk-toggleable__content {max-height: 200px;max-width: 100%;overflow: auto;}#sk-container-id-1 input.sk-toggleable__control:checked~label.sk-toggleable__label-arrow:before {content: \"▾\";}#sk-container-id-1 div.sk-estimator input.sk-toggleable__control:checked~label.sk-toggleable__label {background-color: #d4ebff;}#sk-container-id-1 div.sk-label input.sk-toggleable__control:checked~label.sk-toggleable__label {background-color: #d4ebff;}#sk-container-id-1 input.sk-hidden--visually {border: 0;clip: rect(1px 1px 1px 1px);clip: rect(1px, 1px, 1px, 1px);height: 1px;margin: -1px;overflow: hidden;padding: 0;position: absolute;width: 1px;}#sk-container-id-1 div.sk-estimator {font-family: monospace;background-color: #f0f8ff;border: 1px dotted black;border-radius: 0.25em;box-sizing: border-box;margin-bottom: 0.5em;}#sk-container-id-1 div.sk-estimator:hover {background-color: #d4ebff;}#sk-container-id-1 div.sk-parallel-item::after {content: \"\";width: 100%;border-bottom: 1px solid gray;flex-grow: 1;}#sk-container-id-1 div.sk-label:hover label.sk-toggleable__label {background-color: #d4ebff;}#sk-container-id-1 div.sk-serial::before {content: \"\";position: absolute;border-left: 1px solid gray;box-sizing: border-box;top: 0;bottom: 0;left: 50%;z-index: 0;}#sk-container-id-1 div.sk-serial {display: flex;flex-direction: column;align-items: center;background-color: white;padding-right: 0.2em;padding-left: 0.2em;position: relative;}#sk-container-id-1 div.sk-item {position: relative;z-index: 1;}#sk-container-id-1 div.sk-parallel {display: flex;align-items: stretch;justify-content: center;background-color: white;position: relative;}#sk-container-id-1 div.sk-item::before, #sk-container-id-1 div.sk-parallel-item::before {content: \"\";position: absolute;border-left: 1px solid gray;box-sizing: border-box;top: 0;bottom: 0;left: 50%;z-index: -1;}#sk-container-id-1 div.sk-parallel-item {display: flex;flex-direction: column;z-index: 1;position: relative;background-color: white;}#sk-container-id-1 div.sk-parallel-item:first-child::after {align-self: flex-end;width: 50%;}#sk-container-id-1 div.sk-parallel-item:last-child::after {align-self: flex-start;width: 50%;}#sk-container-id-1 div.sk-parallel-item:only-child::after {width: 0;}#sk-container-id-1 div.sk-dashed-wrapped {border: 1px dashed gray;margin: 0 0.4em 0.5em 0.4em;box-sizing: border-box;padding-bottom: 0.4em;background-color: white;}#sk-container-id-1 div.sk-label label {font-family: monospace;font-weight: bold;display: inline-block;line-height: 1.2em;}#sk-container-id-1 div.sk-label-container {text-align: center;}#sk-container-id-1 div.sk-container {/* jupyter's `normalize.less` sets `[hidden] { display: none; }` but bootstrap.min.css set `[hidden] { display: none !important; }` so we also need the `!important` here to be able to override the default hidden behavior on the sphinx rendered scikit-learn.org. See: https://github.com/scikit-learn/scikit-learn/issues/21755 */display: inline-block !important;position: relative;}#sk-container-id-1 div.sk-text-repr-fallback {display: none;}</style><div id=\"sk-container-id-1\" class=\"sk-top-container\"><div class=\"sk-text-repr-fallback\"><pre>LinearRegression()</pre><b>In a Jupyter environment, please rerun this cell to show the HTML representation or trust the notebook. <br />On GitHub, the HTML representation is unable to render, please try loading this page with nbviewer.org.</b></div><div class=\"sk-container\" hidden><div class=\"sk-item\"><div class=\"sk-estimator sk-toggleable\"><input class=\"sk-toggleable__control sk-hidden--visually\" id=\"sk-estimator-id-1\" type=\"checkbox\" checked><label for=\"sk-estimator-id-1\" class=\"sk-toggleable__label sk-toggleable__label-arrow\">LinearRegression</label><div class=\"sk-toggleable__content\"><pre>LinearRegression()</pre></div></div></div></div></div>"
      ],
      "text/plain": [
       "LinearRegression()"
      ]
     },
     "execution_count": 65,
     "metadata": {},
     "output_type": "execute_result"
    }
   ],
   "source": [
    "from sklearn.linear_model import LinearRegression\n",
    "LR = LinearRegression()\n",
    "LR.fit(x_train,y_train)"
   ]
  },
  {
   "cell_type": "code",
   "execution_count": 66,
   "metadata": {
    "execution": {
     "iopub.execute_input": "2023-01-16T01:31:06.176602Z",
     "iopub.status.busy": "2023-01-16T01:31:06.175488Z",
     "iopub.status.idle": "2023-01-16T01:31:06.18495Z",
     "shell.execute_reply": "2023-01-16T01:31:06.183665Z",
     "shell.execute_reply.started": "2023-01-16T01:31:06.176549Z"
    }
   },
   "outputs": [],
   "source": [
    "LR_pred = LR.predict(x_test)"
   ]
  },
  {
   "cell_type": "code",
   "execution_count": 67,
   "metadata": {
    "execution": {
     "iopub.execute_input": "2023-01-16T01:31:06.18738Z",
     "iopub.status.busy": "2023-01-16T01:31:06.186577Z",
     "iopub.status.idle": "2023-01-16T01:31:06.213902Z",
     "shell.execute_reply": "2023-01-16T01:31:06.212229Z",
     "shell.execute_reply.started": "2023-01-16T01:31:06.18733Z"
    }
   },
   "outputs": [
    {
     "name": "stdout",
     "output_type": "stream",
     "text": [
      "Training set score: 0.02\n",
      "Test set score: 0.0155342\n"
     ]
    }
   ],
   "source": [
    "print(\"Training set score: {:.2f}\".format(LR.score(x_train, y_train)))\n",
    "print(\"Test set score: {:.7f}\".format(LR.score(x_test, y_test)))"
   ]
  },
  {
   "cell_type": "code",
   "execution_count": 69,
   "metadata": {
    "execution": {
     "iopub.execute_input": "2023-01-16T01:31:06.219398Z",
     "iopub.status.busy": "2023-01-16T01:31:06.217195Z",
     "iopub.status.idle": "2023-01-16T01:31:06.246693Z",
     "shell.execute_reply": "2023-01-16T01:31:06.244857Z",
     "shell.execute_reply.started": "2023-01-16T01:31:06.219334Z"
    }
   },
   "outputs": [],
   "source": [
    "from sklearn import metrics\n",
    "MAE_LR= metrics.mean_absolute_error(y_test, LR_pred)\n",
    "MSE_LR= metrics.mean_squared_error(y_test, LR_pred)\n",
    "RMSE_LR= (metrics.mean_squared_error(y_test, LR_pred,squared=False))\n",
    "r2_LR=r2_score(y_test, LR_pred)\n",
    "Adj_r2_LR=1-(1-r2_score(y_test, LR_pred))*((len(x_test)-1)/(len(x_test)-len(x_test[0])-1))"
   ]
  },
  {
   "cell_type": "code",
   "execution_count": 70,
   "metadata": {
    "execution": {
     "iopub.execute_input": "2023-01-16T01:31:06.252288Z",
     "iopub.status.busy": "2023-01-16T01:31:06.250017Z",
     "iopub.status.idle": "2023-01-16T01:31:06.265443Z",
     "shell.execute_reply": "2023-01-16T01:31:06.263967Z",
     "shell.execute_reply.started": "2023-01-16T01:31:06.252224Z"
    },
    "scrolled": true
   },
   "outputs": [
    {
     "name": "stdout",
     "output_type": "stream",
     "text": [
      "Mean absolute error of linear regression 0.602827691501411\n",
      "Mean square  error of linear regression 1.0325370010111947\n",
      "root Mean square error of linear regression 1.0161382784892983\n",
      "r2 score of linear regression 0.015534163567349601\n",
      "adjusted r2 of linear regression 0.015435705496931518\n"
     ]
    }
   ],
   "source": [
    "print('Mean absolute error of linear regression',MAE_LR)\n",
    "print('Mean square  error of linear regression',MSE_LR)\n",
    "print('root Mean square error of linear regression',RMSE_LR)\n",
    "print('r2 score of linear regression',r2_LR)\n",
    "print('adjusted r2 of linear regression',Adj_r2_LR)"
   ]
  },
  {
   "cell_type": "code",
   "execution_count": null,
   "metadata": {},
   "outputs": [],
   "source": [
    "# The Above Score Better"
   ]
  },
  {
   "cell_type": "markdown",
   "metadata": {},
   "source": [
    "### Decision Tree Regressor"
   ]
  },
  {
   "cell_type": "code",
   "execution_count": 71,
   "metadata": {
    "execution": {
     "iopub.execute_input": "2023-01-16T01:31:06.268591Z",
     "iopub.status.busy": "2023-01-16T01:31:06.267663Z",
     "iopub.status.idle": "2023-01-16T01:31:07.102487Z",
     "shell.execute_reply": "2023-01-16T01:31:07.101339Z",
     "shell.execute_reply.started": "2023-01-16T01:31:06.268535Z"
    }
   },
   "outputs": [
    {
     "data": {
      "text/html": [
       "<style>#sk-container-id-2 {color: black;background-color: white;}#sk-container-id-2 pre{padding: 0;}#sk-container-id-2 div.sk-toggleable {background-color: white;}#sk-container-id-2 label.sk-toggleable__label {cursor: pointer;display: block;width: 100%;margin-bottom: 0;padding: 0.3em;box-sizing: border-box;text-align: center;}#sk-container-id-2 label.sk-toggleable__label-arrow:before {content: \"▸\";float: left;margin-right: 0.25em;color: #696969;}#sk-container-id-2 label.sk-toggleable__label-arrow:hover:before {color: black;}#sk-container-id-2 div.sk-estimator:hover label.sk-toggleable__label-arrow:before {color: black;}#sk-container-id-2 div.sk-toggleable__content {max-height: 0;max-width: 0;overflow: hidden;text-align: left;background-color: #f0f8ff;}#sk-container-id-2 div.sk-toggleable__content pre {margin: 0.2em;color: black;border-radius: 0.25em;background-color: #f0f8ff;}#sk-container-id-2 input.sk-toggleable__control:checked~div.sk-toggleable__content {max-height: 200px;max-width: 100%;overflow: auto;}#sk-container-id-2 input.sk-toggleable__control:checked~label.sk-toggleable__label-arrow:before {content: \"▾\";}#sk-container-id-2 div.sk-estimator input.sk-toggleable__control:checked~label.sk-toggleable__label {background-color: #d4ebff;}#sk-container-id-2 div.sk-label input.sk-toggleable__control:checked~label.sk-toggleable__label {background-color: #d4ebff;}#sk-container-id-2 input.sk-hidden--visually {border: 0;clip: rect(1px 1px 1px 1px);clip: rect(1px, 1px, 1px, 1px);height: 1px;margin: -1px;overflow: hidden;padding: 0;position: absolute;width: 1px;}#sk-container-id-2 div.sk-estimator {font-family: monospace;background-color: #f0f8ff;border: 1px dotted black;border-radius: 0.25em;box-sizing: border-box;margin-bottom: 0.5em;}#sk-container-id-2 div.sk-estimator:hover {background-color: #d4ebff;}#sk-container-id-2 div.sk-parallel-item::after {content: \"\";width: 100%;border-bottom: 1px solid gray;flex-grow: 1;}#sk-container-id-2 div.sk-label:hover label.sk-toggleable__label {background-color: #d4ebff;}#sk-container-id-2 div.sk-serial::before {content: \"\";position: absolute;border-left: 1px solid gray;box-sizing: border-box;top: 0;bottom: 0;left: 50%;z-index: 0;}#sk-container-id-2 div.sk-serial {display: flex;flex-direction: column;align-items: center;background-color: white;padding-right: 0.2em;padding-left: 0.2em;position: relative;}#sk-container-id-2 div.sk-item {position: relative;z-index: 1;}#sk-container-id-2 div.sk-parallel {display: flex;align-items: stretch;justify-content: center;background-color: white;position: relative;}#sk-container-id-2 div.sk-item::before, #sk-container-id-2 div.sk-parallel-item::before {content: \"\";position: absolute;border-left: 1px solid gray;box-sizing: border-box;top: 0;bottom: 0;left: 50%;z-index: -1;}#sk-container-id-2 div.sk-parallel-item {display: flex;flex-direction: column;z-index: 1;position: relative;background-color: white;}#sk-container-id-2 div.sk-parallel-item:first-child::after {align-self: flex-end;width: 50%;}#sk-container-id-2 div.sk-parallel-item:last-child::after {align-self: flex-start;width: 50%;}#sk-container-id-2 div.sk-parallel-item:only-child::after {width: 0;}#sk-container-id-2 div.sk-dashed-wrapped {border: 1px dashed gray;margin: 0 0.4em 0.5em 0.4em;box-sizing: border-box;padding-bottom: 0.4em;background-color: white;}#sk-container-id-2 div.sk-label label {font-family: monospace;font-weight: bold;display: inline-block;line-height: 1.2em;}#sk-container-id-2 div.sk-label-container {text-align: center;}#sk-container-id-2 div.sk-container {/* jupyter's `normalize.less` sets `[hidden] { display: none; }` but bootstrap.min.css set `[hidden] { display: none !important; }` so we also need the `!important` here to be able to override the default hidden behavior on the sphinx rendered scikit-learn.org. See: https://github.com/scikit-learn/scikit-learn/issues/21755 */display: inline-block !important;position: relative;}#sk-container-id-2 div.sk-text-repr-fallback {display: none;}</style><div id=\"sk-container-id-2\" class=\"sk-top-container\"><div class=\"sk-text-repr-fallback\"><pre>DecisionTreeRegressor()</pre><b>In a Jupyter environment, please rerun this cell to show the HTML representation or trust the notebook. <br />On GitHub, the HTML representation is unable to render, please try loading this page with nbviewer.org.</b></div><div class=\"sk-container\" hidden><div class=\"sk-item\"><div class=\"sk-estimator sk-toggleable\"><input class=\"sk-toggleable__control sk-hidden--visually\" id=\"sk-estimator-id-2\" type=\"checkbox\" checked><label for=\"sk-estimator-id-2\" class=\"sk-toggleable__label sk-toggleable__label-arrow\">DecisionTreeRegressor</label><div class=\"sk-toggleable__content\"><pre>DecisionTreeRegressor()</pre></div></div></div></div></div>"
      ],
      "text/plain": [
       "DecisionTreeRegressor()"
      ]
     },
     "execution_count": 71,
     "metadata": {},
     "output_type": "execute_result"
    }
   ],
   "source": [
    "from sklearn.tree import DecisionTreeRegressor\n",
    "\n",
    "DT = DecisionTreeRegressor()\n",
    "DT.fit(x_train, y_train)"
   ]
  },
  {
   "cell_type": "code",
   "execution_count": 72,
   "metadata": {
    "execution": {
     "iopub.execute_input": "2023-01-16T01:31:07.104155Z",
     "iopub.status.busy": "2023-01-16T01:31:07.103705Z",
     "iopub.status.idle": "2023-01-16T01:31:07.143192Z",
     "shell.execute_reply": "2023-01-16T01:31:07.14186Z",
     "shell.execute_reply.started": "2023-01-16T01:31:07.104092Z"
    }
   },
   "outputs": [],
   "source": [
    "DTpreds = DT.predict(x_test)"
   ]
  },
  {
   "cell_type": "code",
   "execution_count": 73,
   "metadata": {
    "execution": {
     "iopub.execute_input": "2023-01-16T01:31:07.145474Z",
     "iopub.status.busy": "2023-01-16T01:31:07.144692Z",
     "iopub.status.idle": "2023-01-16T01:31:07.269153Z",
     "shell.execute_reply": "2023-01-16T01:31:07.267866Z",
     "shell.execute_reply.started": "2023-01-16T01:31:07.145433Z"
    }
   },
   "outputs": [
    {
     "name": "stdout",
     "output_type": "stream",
     "text": [
      "Training set score: 1.00\n",
      "Test set score: 0.4434833\n"
     ]
    }
   ],
   "source": [
    "print(\"Training set score: {:.2f}\".format(DT.score(x_train, y_train)))\n",
    "print(\"Test set score: {:.7f}\".format(DT.score(x_test, y_test)))"
   ]
  },
  {
   "cell_type": "code",
   "execution_count": 74,
   "metadata": {
    "execution": {
     "iopub.execute_input": "2023-01-16T01:31:07.27157Z",
     "iopub.status.busy": "2023-01-16T01:31:07.270734Z",
     "iopub.status.idle": "2023-01-16T01:31:07.282877Z",
     "shell.execute_reply": "2023-01-16T01:31:07.281657Z",
     "shell.execute_reply.started": "2023-01-16T01:31:07.271522Z"
    }
   },
   "outputs": [],
   "source": [
    "MAE_DT= metrics.mean_absolute_error(y_test, DTpreds)\n",
    "MSE_DT= metrics.mean_squared_error(y_test, DTpreds)\n",
    "RMSE_DT= np.sqrt(metrics.mean_squared_error(y_test, DTpreds))\n",
    "r2_DT=r2_score(y_test, DTpreds)\n",
    "Adj_r2_DT=1-(1-r2_score(y_test, DTpreds))*((len(x_test)-1)/(len(x_test)-len(x_test[0])-1))"
   ]
  },
  {
   "cell_type": "code",
   "execution_count": 75,
   "metadata": {
    "execution": {
     "iopub.execute_input": "2023-01-16T01:31:07.284678Z",
     "iopub.status.busy": "2023-01-16T01:31:07.284264Z",
     "iopub.status.idle": "2023-01-16T01:31:07.293412Z",
     "shell.execute_reply": "2023-01-16T01:31:07.292175Z",
     "shell.execute_reply.started": "2023-01-16T01:31:07.284647Z"
    },
    "scrolled": true
   },
   "outputs": [
    {
     "name": "stdout",
     "output_type": "stream",
     "text": [
      "Mean absolute error of decision tree 0.32879292002181676\n",
      "Mean square  error of decision tree 0.5836912572822076\n",
      "root Mean square error of decision tree 0.7639968961207942\n",
      "r2 score of decision tree 0.4434832831598218\n",
      "adjusted r2 of decision tree 0.44342762499468524\n"
     ]
    }
   ],
   "source": [
    "print('Mean absolute error of decision tree',MAE_DT)\n",
    "print('Mean square  error of decision tree',MSE_DT)\n",
    "print('root Mean square error of decision tree',RMSE_DT)\n",
    "print('r2 score of decision tree',r2_DT)\n",
    "print('adjusted r2 of decision tree',Adj_r2_DT)"
   ]
  },
  {
   "cell_type": "markdown",
   "metadata": {},
   "source": [
    "### Random Forest regressor"
   ]
  },
  {
   "cell_type": "code",
   "execution_count": 76,
   "metadata": {
    "execution": {
     "iopub.execute_input": "2023-01-16T01:31:07.29577Z",
     "iopub.status.busy": "2023-01-16T01:31:07.29488Z",
     "iopub.status.idle": "2023-01-16T01:31:57.250901Z",
     "shell.execute_reply": "2023-01-16T01:31:57.249675Z",
     "shell.execute_reply.started": "2023-01-16T01:31:07.295734Z"
    },
    "scrolled": true
   },
   "outputs": [
    {
     "data": {
      "text/html": [
       "<style>#sk-container-id-3 {color: black;background-color: white;}#sk-container-id-3 pre{padding: 0;}#sk-container-id-3 div.sk-toggleable {background-color: white;}#sk-container-id-3 label.sk-toggleable__label {cursor: pointer;display: block;width: 100%;margin-bottom: 0;padding: 0.3em;box-sizing: border-box;text-align: center;}#sk-container-id-3 label.sk-toggleable__label-arrow:before {content: \"▸\";float: left;margin-right: 0.25em;color: #696969;}#sk-container-id-3 label.sk-toggleable__label-arrow:hover:before {color: black;}#sk-container-id-3 div.sk-estimator:hover label.sk-toggleable__label-arrow:before {color: black;}#sk-container-id-3 div.sk-toggleable__content {max-height: 0;max-width: 0;overflow: hidden;text-align: left;background-color: #f0f8ff;}#sk-container-id-3 div.sk-toggleable__content pre {margin: 0.2em;color: black;border-radius: 0.25em;background-color: #f0f8ff;}#sk-container-id-3 input.sk-toggleable__control:checked~div.sk-toggleable__content {max-height: 200px;max-width: 100%;overflow: auto;}#sk-container-id-3 input.sk-toggleable__control:checked~label.sk-toggleable__label-arrow:before {content: \"▾\";}#sk-container-id-3 div.sk-estimator input.sk-toggleable__control:checked~label.sk-toggleable__label {background-color: #d4ebff;}#sk-container-id-3 div.sk-label input.sk-toggleable__control:checked~label.sk-toggleable__label {background-color: #d4ebff;}#sk-container-id-3 input.sk-hidden--visually {border: 0;clip: rect(1px 1px 1px 1px);clip: rect(1px, 1px, 1px, 1px);height: 1px;margin: -1px;overflow: hidden;padding: 0;position: absolute;width: 1px;}#sk-container-id-3 div.sk-estimator {font-family: monospace;background-color: #f0f8ff;border: 1px dotted black;border-radius: 0.25em;box-sizing: border-box;margin-bottom: 0.5em;}#sk-container-id-3 div.sk-estimator:hover {background-color: #d4ebff;}#sk-container-id-3 div.sk-parallel-item::after {content: \"\";width: 100%;border-bottom: 1px solid gray;flex-grow: 1;}#sk-container-id-3 div.sk-label:hover label.sk-toggleable__label {background-color: #d4ebff;}#sk-container-id-3 div.sk-serial::before {content: \"\";position: absolute;border-left: 1px solid gray;box-sizing: border-box;top: 0;bottom: 0;left: 50%;z-index: 0;}#sk-container-id-3 div.sk-serial {display: flex;flex-direction: column;align-items: center;background-color: white;padding-right: 0.2em;padding-left: 0.2em;position: relative;}#sk-container-id-3 div.sk-item {position: relative;z-index: 1;}#sk-container-id-3 div.sk-parallel {display: flex;align-items: stretch;justify-content: center;background-color: white;position: relative;}#sk-container-id-3 div.sk-item::before, #sk-container-id-3 div.sk-parallel-item::before {content: \"\";position: absolute;border-left: 1px solid gray;box-sizing: border-box;top: 0;bottom: 0;left: 50%;z-index: -1;}#sk-container-id-3 div.sk-parallel-item {display: flex;flex-direction: column;z-index: 1;position: relative;background-color: white;}#sk-container-id-3 div.sk-parallel-item:first-child::after {align-self: flex-end;width: 50%;}#sk-container-id-3 div.sk-parallel-item:last-child::after {align-self: flex-start;width: 50%;}#sk-container-id-3 div.sk-parallel-item:only-child::after {width: 0;}#sk-container-id-3 div.sk-dashed-wrapped {border: 1px dashed gray;margin: 0 0.4em 0.5em 0.4em;box-sizing: border-box;padding-bottom: 0.4em;background-color: white;}#sk-container-id-3 div.sk-label label {font-family: monospace;font-weight: bold;display: inline-block;line-height: 1.2em;}#sk-container-id-3 div.sk-label-container {text-align: center;}#sk-container-id-3 div.sk-container {/* jupyter's `normalize.less` sets `[hidden] { display: none; }` but bootstrap.min.css set `[hidden] { display: none !important; }` so we also need the `!important` here to be able to override the default hidden behavior on the sphinx rendered scikit-learn.org. See: https://github.com/scikit-learn/scikit-learn/issues/21755 */display: inline-block !important;position: relative;}#sk-container-id-3 div.sk-text-repr-fallback {display: none;}</style><div id=\"sk-container-id-3\" class=\"sk-top-container\"><div class=\"sk-text-repr-fallback\"><pre>RandomForestRegressor()</pre><b>In a Jupyter environment, please rerun this cell to show the HTML representation or trust the notebook. <br />On GitHub, the HTML representation is unable to render, please try loading this page with nbviewer.org.</b></div><div class=\"sk-container\" hidden><div class=\"sk-item\"><div class=\"sk-estimator sk-toggleable\"><input class=\"sk-toggleable__control sk-hidden--visually\" id=\"sk-estimator-id-3\" type=\"checkbox\" checked><label for=\"sk-estimator-id-3\" class=\"sk-toggleable__label sk-toggleable__label-arrow\">RandomForestRegressor</label><div class=\"sk-toggleable__content\"><pre>RandomForestRegressor()</pre></div></div></div></div></div>"
      ],
      "text/plain": [
       "RandomForestRegressor()"
      ]
     },
     "execution_count": 76,
     "metadata": {},
     "output_type": "execute_result"
    }
   ],
   "source": [
    "from sklearn.ensemble import RandomForestRegressor\n",
    "\n",
    "RF = RandomForestRegressor()\n",
    "RF.fit(x_train, y_train)"
   ]
  },
  {
   "cell_type": "code",
   "execution_count": 77,
   "metadata": {
    "execution": {
     "iopub.execute_input": "2023-01-16T01:31:57.25278Z",
     "iopub.status.busy": "2023-01-16T01:31:57.252429Z",
     "iopub.status.idle": "2023-01-16T01:32:00.111676Z",
     "shell.execute_reply": "2023-01-16T01:32:00.110319Z",
     "shell.execute_reply.started": "2023-01-16T01:31:57.252748Z"
    }
   },
   "outputs": [],
   "source": [
    "RFpreds = RF.predict(x_test)"
   ]
  },
  {
   "cell_type": "code",
   "execution_count": 78,
   "metadata": {
    "execution": {
     "iopub.execute_input": "2023-01-16T01:32:00.113303Z",
     "iopub.status.busy": "2023-01-16T01:32:00.112938Z",
     "iopub.status.idle": "2023-01-16T01:32:09.465406Z",
     "shell.execute_reply": "2023-01-16T01:32:09.464184Z",
     "shell.execute_reply.started": "2023-01-16T01:32:00.11327Z"
    },
    "scrolled": true
   },
   "outputs": [
    {
     "name": "stdout",
     "output_type": "stream",
     "text": [
      "Training set score: 0.96\n",
      "Test set score: 0.6779608\n"
     ]
    }
   ],
   "source": [
    "print(\"Training set score: {:.2f}\".format(RF.score(x_train, y_train)))\n",
    "print(\"Test set score: {:.7f}\".format(RF.score(x_test, y_test)))"
   ]
  },
  {
   "cell_type": "code",
   "execution_count": 79,
   "metadata": {
    "execution": {
     "iopub.execute_input": "2023-01-16T01:32:09.467627Z",
     "iopub.status.busy": "2023-01-16T01:32:09.466657Z",
     "iopub.status.idle": "2023-01-16T01:32:09.478595Z",
     "shell.execute_reply": "2023-01-16T01:32:09.477232Z",
     "shell.execute_reply.started": "2023-01-16T01:32:09.467583Z"
    }
   },
   "outputs": [],
   "source": [
    "MAE_RF= metrics.mean_absolute_error(y_test, RFpreds)\n",
    "MSE_RF= metrics.mean_squared_error(y_test, RFpreds)\n",
    "RMSE_RF= np.sqrt(metrics.mean_squared_error(y_test, RFpreds))\n",
    "r2_RF=r2_score(y_test, RFpreds)\n",
    "Adj_r2_RF=1-(1-r2_score(y_test, RFpreds))*((len(x_test)-1)/(len(x_test)-len(x_test[0])-1))"
   ]
  },
  {
   "cell_type": "code",
   "execution_count": 80,
   "metadata": {
    "execution": {
     "iopub.execute_input": "2023-01-16T01:32:09.480382Z",
     "iopub.status.busy": "2023-01-16T01:32:09.48Z",
     "iopub.status.idle": "2023-01-16T01:32:09.496926Z",
     "shell.execute_reply": "2023-01-16T01:32:09.495648Z",
     "shell.execute_reply.started": "2023-01-16T01:32:09.480349Z"
    },
    "scrolled": true
   },
   "outputs": [
    {
     "name": "stdout",
     "output_type": "stream",
     "text": [
      "Mean absolute error of random forest 0.24230291963294112\n",
      "Mean square  error of random forest 0.3377643208442173\n",
      "root Mean square error of random forest 0.5811749485690323\n",
      "r2 score of random forest 0.6779607565526813\n",
      "adjusted r2 of random forest 0.6779285488707737\n"
     ]
    }
   ],
   "source": [
    "print('Mean absolute error of random forest',MAE_RF)\n",
    "print('Mean square  error of random forest',MSE_RF)\n",
    "print('root Mean square error of random forest',RMSE_RF)\n",
    "print('r2 score of random forest',r2_RF)\n",
    "print('adjusted r2 of random forest',Adj_r2_RF)"
   ]
  },
  {
   "cell_type": "markdown",
   "metadata": {},
   "source": [
    "# Boosting Regressors"
   ]
  },
  {
   "cell_type": "code",
   "execution_count": 81,
   "metadata": {
    "execution": {
     "iopub.execute_input": "2023-01-16T01:32:09.499029Z",
     "iopub.status.busy": "2023-01-16T01:32:09.498678Z",
     "iopub.status.idle": "2023-01-16T01:32:09.50932Z",
     "shell.execute_reply": "2023-01-16T01:32:09.50825Z",
     "shell.execute_reply.started": "2023-01-16T01:32:09.498999Z"
    }
   },
   "outputs": [],
   "source": [
    "from sklearn.ensemble import GradientBoostingRegressor, AdaBoostRegressor"
   ]
  },
  {
   "cell_type": "markdown",
   "metadata": {},
   "source": [
    "## Gradient Boosting"
   ]
  },
  {
   "cell_type": "code",
   "execution_count": 82,
   "metadata": {
    "execution": {
     "iopub.execute_input": "2023-01-16T01:32:09.511768Z",
     "iopub.status.busy": "2023-01-16T01:32:09.510999Z",
     "iopub.status.idle": "2023-01-16T01:32:23.950945Z",
     "shell.execute_reply": "2023-01-16T01:32:23.949405Z",
     "shell.execute_reply.started": "2023-01-16T01:32:09.511732Z"
    }
   },
   "outputs": [],
   "source": [
    "gbr = GradientBoostingRegressor(random_state = 42)\n",
    "gbr.fit(x_train, y_train)\n",
    "predictions_gbr = gbr.predict(x_test)"
   ]
  },
  {
   "cell_type": "code",
   "execution_count": 83,
   "metadata": {
    "execution": {
     "iopub.execute_input": "2023-01-16T01:32:23.953969Z",
     "iopub.status.busy": "2023-01-16T01:32:23.95284Z",
     "iopub.status.idle": "2023-01-16T01:32:24.246453Z",
     "shell.execute_reply": "2023-01-16T01:32:24.245252Z",
     "shell.execute_reply.started": "2023-01-16T01:32:23.953924Z"
    }
   },
   "outputs": [
    {
     "name": "stdout",
     "output_type": "stream",
     "text": [
      "Training set score: 0.78\n",
      "Test set score: 0.6991512\n"
     ]
    }
   ],
   "source": [
    "print(\"Training set score: {:.2f}\".format(gbr.score(x_train, y_train)))\n",
    "print(\"Test set score: {:.7f}\".format(gbr.score(x_test, y_test)))"
   ]
  },
  {
   "cell_type": "code",
   "execution_count": 84,
   "metadata": {
    "execution": {
     "iopub.execute_input": "2023-01-16T01:32:24.248047Z",
     "iopub.status.busy": "2023-01-16T01:32:24.247691Z",
     "iopub.status.idle": "2023-01-16T01:32:24.258865Z",
     "shell.execute_reply": "2023-01-16T01:32:24.257666Z",
     "shell.execute_reply.started": "2023-01-16T01:32:24.248015Z"
    }
   },
   "outputs": [],
   "source": [
    "MAE_GBR= metrics.mean_absolute_error(y_test, predictions_gbr)\n",
    "MSE_GBR= metrics.mean_squared_error(y_test, predictions_gbr)\n",
    "RMSE_GBR= np.sqrt(metrics.mean_squared_error(y_test, predictions_gbr))\n",
    "r2_GBR=r2_score(y_test, predictions_gbr)\n",
    "Adj_r2_GBR=1-(1-r2_score(y_test, predictions_gbr))*((len(x_test)-1)/(len(x_test)-len(x_test[0])-1))"
   ]
  },
  {
   "cell_type": "code",
   "execution_count": 85,
   "metadata": {
    "execution": {
     "iopub.execute_input": "2023-01-16T01:32:24.260556Z",
     "iopub.status.busy": "2023-01-16T01:32:24.260224Z",
     "iopub.status.idle": "2023-01-16T01:32:24.275664Z",
     "shell.execute_reply": "2023-01-16T01:32:24.274354Z",
     "shell.execute_reply.started": "2023-01-16T01:32:24.260526Z"
    }
   },
   "outputs": [
    {
     "name": "stdout",
     "output_type": "stream",
     "text": [
      "Mean absolute error of gradient boosting regressor 0.22606828877205767\n",
      "Mean square  error of gradient boosting regressor 0.31553914953415585\n",
      "root Mean square error of gradient boosting regressor 0.5617287152479886\n",
      "r2 score of gradient boosting regressor 0.6991512047808717\n",
      "adjusted r2 of gradient boosting regressor 0.6991211163910376\n"
     ]
    }
   ],
   "source": [
    "print('Mean absolute error of gradient boosting regressor',MAE_GBR)\n",
    "print('Mean square  error of gradient boosting regressor',MSE_GBR)\n",
    "print('root Mean square error of gradient boosting regressor',RMSE_GBR)\n",
    "print('r2 score of gradient boosting regressor',r2_GBR)\n",
    "print('adjusted r2 of gradient boosting regressor',Adj_r2_GBR)"
   ]
  },
  {
   "cell_type": "markdown",
   "metadata": {},
   "source": [
    "## XGBoost Regressor"
   ]
  },
  {
   "cell_type": "code",
   "execution_count": 86,
   "metadata": {
    "execution": {
     "iopub.execute_input": "2023-01-16T01:32:24.277737Z",
     "iopub.status.busy": "2023-01-16T01:32:24.277272Z",
     "iopub.status.idle": "2023-01-16T01:32:24.402431Z",
     "shell.execute_reply": "2023-01-16T01:32:24.401285Z",
     "shell.execute_reply.started": "2023-01-16T01:32:24.277691Z"
    }
   },
   "outputs": [],
   "source": [
    "from xgboost import XGBRegressor"
   ]
  },
  {
   "cell_type": "code",
   "execution_count": 87,
   "metadata": {
    "execution": {
     "iopub.execute_input": "2023-01-16T01:32:24.405046Z",
     "iopub.status.busy": "2023-01-16T01:32:24.403828Z",
     "iopub.status.idle": "2023-01-16T01:32:32.188179Z",
     "shell.execute_reply": "2023-01-16T01:32:32.187113Z",
     "shell.execute_reply.started": "2023-01-16T01:32:24.404996Z"
    }
   },
   "outputs": [],
   "source": [
    "xgb = XGBRegressor(random_state = 42, scale_pos_weight = 1)\n",
    "xgb.fit(x_train, y_train)\n",
    "predictions_xgb = xgb.predict(x_test)"
   ]
  },
  {
   "cell_type": "code",
   "execution_count": 88,
   "metadata": {
    "execution": {
     "iopub.execute_input": "2023-01-16T01:32:32.190772Z",
     "iopub.status.busy": "2023-01-16T01:32:32.189919Z",
     "iopub.status.idle": "2023-01-16T01:32:32.388275Z",
     "shell.execute_reply": "2023-01-16T01:32:32.387195Z",
     "shell.execute_reply.started": "2023-01-16T01:32:32.190724Z"
    }
   },
   "outputs": [
    {
     "name": "stdout",
     "output_type": "stream",
     "text": [
      "Training set score: 0.84\n",
      "Test set score: 0.6931478\n"
     ]
    }
   ],
   "source": [
    "print(\"Training set score: {:.2f}\".format(xgb.score(x_train, y_train)))\n",
    "print(\"Test set score: {:.7f}\".format(xgb.score(x_test, y_test)))"
   ]
  },
  {
   "cell_type": "code",
   "execution_count": 89,
   "metadata": {
    "execution": {
     "iopub.execute_input": "2023-01-16T01:32:32.390356Z",
     "iopub.status.busy": "2023-01-16T01:32:32.389698Z",
     "iopub.status.idle": "2023-01-16T01:32:32.399866Z",
     "shell.execute_reply": "2023-01-16T01:32:32.398654Z",
     "shell.execute_reply.started": "2023-01-16T01:32:32.390319Z"
    }
   },
   "outputs": [],
   "source": [
    "MAE_XGB= metrics.mean_absolute_error(y_test, predictions_xgb)\n",
    "MSE_XGB= metrics.mean_squared_error(y_test, predictions_xgb)\n",
    "RMSE_XGB= np.sqrt(metrics.mean_squared_error(y_test, predictions_xgb))\n",
    "r2_XGB=r2_score(y_test, predictions_xgb)\n",
    "Adj_r2_XGB=1-(1-r2_score(y_test, predictions_xgb))*((len(x_test)-1)/(len(x_test)-len(x_test[0])-1))"
   ]
  },
  {
   "cell_type": "code",
   "execution_count": 90,
   "metadata": {
    "execution": {
     "iopub.execute_input": "2023-01-16T01:32:32.404246Z",
     "iopub.status.busy": "2023-01-16T01:32:32.403236Z",
     "iopub.status.idle": "2023-01-16T01:32:32.415583Z",
     "shell.execute_reply": "2023-01-16T01:32:32.414194Z",
     "shell.execute_reply.started": "2023-01-16T01:32:32.404194Z"
    }
   },
   "outputs": [
    {
     "name": "stdout",
     "output_type": "stream",
     "text": [
      "Mean absolute error of XGB regressor 0.2249474585441764\n",
      "Mean square  error of XGB regressor 0.3218357144211558\n",
      "root Mean square error of XGB regressor 0.5673056622502157\n",
      "r2 score of XGB regressor 0.6931477850370152\n",
      "adjusted r2 of XGB regressor 0.6931170962351587\n"
     ]
    }
   ],
   "source": [
    "print('Mean absolute error of XGB regressor',MAE_XGB)\n",
    "print('Mean square  error of XGB regressor',MSE_XGB)\n",
    "print('root Mean square error of XGB regressor',RMSE_XGB)\n",
    "print('r2 score of XGB regressor',r2_XGB)\n",
    "print('adjusted r2 of XGB regressor',Adj_r2_XGB)"
   ]
  },
  {
   "cell_type": "markdown",
   "metadata": {},
   "source": [
    "**Generally for a Regression we Usually Prefer Root Mean Squared Error as a Performance Measurement Technique\n",
    "The Lower the Better**"
   ]
  },
  {
   "cell_type": "markdown",
   "metadata": {},
   "source": [
    "# Choosing the best models"
   ]
  },
  {
   "cell_type": "code",
   "execution_count": 109,
   "metadata": {
    "execution": {
     "iopub.execute_input": "2023-01-16T01:32:32.417861Z",
     "iopub.status.busy": "2023-01-16T01:32:32.417173Z",
     "iopub.status.idle": "2023-01-16T01:32:32.430171Z",
     "shell.execute_reply": "2023-01-16T01:32:32.429171Z",
     "shell.execute_reply.started": "2023-01-16T01:32:32.417812Z"
    }
   },
   "outputs": [],
   "source": [
    "cols = ['Model', 'MSE', 'RMSE', 'R2_score','MAE','ADJ_r']\n",
    "result_table = pd.DataFrame(columns = cols)"
   ]
  },
  {
   "cell_type": "code",
   "execution_count": 110,
   "metadata": {
    "execution": {
     "iopub.execute_input": "2023-01-16T01:32:32.432877Z",
     "iopub.status.busy": "2023-01-16T01:32:32.432055Z",
     "iopub.status.idle": "2023-01-16T01:32:32.443634Z",
     "shell.execute_reply": "2023-01-16T01:32:32.442416Z",
     "shell.execute_reply.started": "2023-01-16T01:32:32.432831Z"
    }
   },
   "outputs": [],
   "source": [
    "full_metrics = pd.Series({'Model': \"Linear Regression\", 'MSE': MSE_LR, 'RMSE' : RMSE_LR, 'R2_score' : r2_LR,'MAE':MAE_LR,'ADJ_r':Adj_r2_LR})"
   ]
  },
  {
   "cell_type": "code",
   "execution_count": 111,
   "metadata": {
    "execution": {
     "iopub.execute_input": "2023-01-16T01:32:32.446209Z",
     "iopub.status.busy": "2023-01-16T01:32:32.445688Z",
     "iopub.status.idle": "2023-01-16T01:32:32.458932Z",
     "shell.execute_reply": "2023-01-16T01:32:32.457948Z",
     "shell.execute_reply.started": "2023-01-16T01:32:32.446026Z"
    }
   },
   "outputs": [],
   "source": [
    "result_table = result_table.append(full_metrics, ignore_index = True)"
   ]
  },
  {
   "cell_type": "code",
   "execution_count": 112,
   "metadata": {
    "execution": {
     "iopub.execute_input": "2023-01-16T01:32:32.460956Z",
     "iopub.status.busy": "2023-01-16T01:32:32.460397Z",
     "iopub.status.idle": "2023-01-16T01:32:32.468564Z",
     "shell.execute_reply": "2023-01-16T01:32:32.467537Z",
     "shell.execute_reply.started": "2023-01-16T01:32:32.460919Z"
    }
   },
   "outputs": [],
   "source": [
    "full_metrics = pd.Series({'Model': \"Decision Tree\", 'MSE': MSE_DT, 'RMSE' : RMSE_DT, 'R2_score' : r2_DT,'MAE':MAE_DT,'ADJ_r':Adj_r2_DT})"
   ]
  },
  {
   "cell_type": "code",
   "execution_count": 113,
   "metadata": {
    "execution": {
     "iopub.execute_input": "2023-01-16T01:32:32.471234Z",
     "iopub.status.busy": "2023-01-16T01:32:32.469904Z",
     "iopub.status.idle": "2023-01-16T01:32:32.484916Z",
     "shell.execute_reply": "2023-01-16T01:32:32.484002Z",
     "shell.execute_reply.started": "2023-01-16T01:32:32.471185Z"
    }
   },
   "outputs": [],
   "source": [
    "result_table = result_table.append(full_metrics, ignore_index = True)"
   ]
  },
  {
   "cell_type": "code",
   "execution_count": 114,
   "metadata": {
    "execution": {
     "iopub.execute_input": "2023-01-16T01:32:32.487023Z",
     "iopub.status.busy": "2023-01-16T01:32:32.486267Z",
     "iopub.status.idle": "2023-01-16T01:32:32.495999Z",
     "shell.execute_reply": "2023-01-16T01:32:32.494869Z",
     "shell.execute_reply.started": "2023-01-16T01:32:32.486986Z"
    }
   },
   "outputs": [],
   "source": [
    "full_metrics = pd.Series({'Model': \"Random Forest\", 'MSE': MSE_RF, 'RMSE' : RMSE_RF, 'R2_score' : r2_RF,'MAE':MAE_RF,'ADJ_r':Adj_r2_RF})"
   ]
  },
  {
   "cell_type": "code",
   "execution_count": 115,
   "metadata": {
    "execution": {
     "iopub.execute_input": "2023-01-16T01:32:32.498178Z",
     "iopub.status.busy": "2023-01-16T01:32:32.497377Z",
     "iopub.status.idle": "2023-01-16T01:32:32.512812Z",
     "shell.execute_reply": "2023-01-16T01:32:32.511477Z",
     "shell.execute_reply.started": "2023-01-16T01:32:32.498135Z"
    }
   },
   "outputs": [],
   "source": [
    "result_table = result_table.append(full_metrics, ignore_index = True)"
   ]
  },
  {
   "cell_type": "code",
   "execution_count": 116,
   "metadata": {
    "execution": {
     "iopub.execute_input": "2023-01-16T01:32:32.514829Z",
     "iopub.status.busy": "2023-01-16T01:32:32.514242Z",
     "iopub.status.idle": "2023-01-16T01:32:32.525204Z",
     "shell.execute_reply": "2023-01-16T01:32:32.524083Z",
     "shell.execute_reply.started": "2023-01-16T01:32:32.514792Z"
    }
   },
   "outputs": [],
   "source": [
    "full_metrics = pd.Series({'Model': \"Gradient Boosting\", 'MSE': MSE_GBR, 'RMSE' : RMSE_GBR, 'R2_score' : r2_GBR,'MAE':MAE_GBR,'ADJ_r':Adj_r2_GBR})"
   ]
  },
  {
   "cell_type": "code",
   "execution_count": 117,
   "metadata": {
    "execution": {
     "iopub.execute_input": "2023-01-16T01:32:32.527412Z",
     "iopub.status.busy": "2023-01-16T01:32:32.5264Z",
     "iopub.status.idle": "2023-01-16T01:32:32.542548Z",
     "shell.execute_reply": "2023-01-16T01:32:32.540999Z",
     "shell.execute_reply.started": "2023-01-16T01:32:32.527372Z"
    }
   },
   "outputs": [],
   "source": [
    "result_table = result_table.append(full_metrics, ignore_index = True)"
   ]
  },
  {
   "cell_type": "code",
   "execution_count": 118,
   "metadata": {
    "execution": {
     "iopub.execute_input": "2023-01-16T01:32:32.544631Z",
     "iopub.status.busy": "2023-01-16T01:32:32.544063Z",
     "iopub.status.idle": "2023-01-16T01:32:32.552996Z",
     "shell.execute_reply": "2023-01-16T01:32:32.551901Z",
     "shell.execute_reply.started": "2023-01-16T01:32:32.544594Z"
    }
   },
   "outputs": [],
   "source": [
    "full_metrics = pd.Series({'Model': \"XGBoost\", 'MSE': MSE_XGB, 'RMSE' : RMSE_XGB, 'R2_score' : r2_XGB,'MAE':MAE_XGB,'ADJ_r':Adj_r2_XGB})"
   ]
  },
  {
   "cell_type": "code",
   "execution_count": 119,
   "metadata": {
    "execution": {
     "iopub.execute_input": "2023-01-16T01:32:32.554801Z",
     "iopub.status.busy": "2023-01-16T01:32:32.554449Z",
     "iopub.status.idle": "2023-01-16T01:32:32.569818Z",
     "shell.execute_reply": "2023-01-16T01:32:32.568656Z",
     "shell.execute_reply.started": "2023-01-16T01:32:32.55477Z"
    }
   },
   "outputs": [],
   "source": [
    "result_table = result_table.append(full_metrics, ignore_index = True)"
   ]
  },
  {
   "cell_type": "code",
   "execution_count": 120,
   "metadata": {
    "execution": {
     "iopub.execute_input": "2023-01-16T01:32:32.571948Z",
     "iopub.status.busy": "2023-01-16T01:32:32.571237Z",
     "iopub.status.idle": "2023-01-16T01:32:32.590904Z",
     "shell.execute_reply": "2023-01-16T01:32:32.58967Z",
     "shell.execute_reply.started": "2023-01-16T01:32:32.571911Z"
    }
   },
   "outputs": [
    {
     "data": {
      "text/html": [
       "<div>\n",
       "<style scoped>\n",
       "    .dataframe tbody tr th:only-of-type {\n",
       "        vertical-align: middle;\n",
       "    }\n",
       "\n",
       "    .dataframe tbody tr th {\n",
       "        vertical-align: top;\n",
       "    }\n",
       "\n",
       "    .dataframe thead th {\n",
       "        text-align: right;\n",
       "    }\n",
       "</style>\n",
       "<table border=\"1\" class=\"dataframe\">\n",
       "  <thead>\n",
       "    <tr style=\"text-align: right;\">\n",
       "      <th></th>\n",
       "      <th>Model</th>\n",
       "      <th>MSE</th>\n",
       "      <th>RMSE</th>\n",
       "      <th>R2_score</th>\n",
       "      <th>MAE</th>\n",
       "      <th>ADJ_r</th>\n",
       "    </tr>\n",
       "  </thead>\n",
       "  <tbody>\n",
       "    <tr>\n",
       "      <th>0</th>\n",
       "      <td>Linear Regression</td>\n",
       "      <td>1.032537</td>\n",
       "      <td>1.016138</td>\n",
       "      <td>0.015534</td>\n",
       "      <td>0.602828</td>\n",
       "      <td>0.015436</td>\n",
       "    </tr>\n",
       "    <tr>\n",
       "      <th>1</th>\n",
       "      <td>Decision Tree</td>\n",
       "      <td>0.583691</td>\n",
       "      <td>0.763997</td>\n",
       "      <td>0.443483</td>\n",
       "      <td>0.328793</td>\n",
       "      <td>0.443428</td>\n",
       "    </tr>\n",
       "    <tr>\n",
       "      <th>2</th>\n",
       "      <td>Random Forest</td>\n",
       "      <td>0.337764</td>\n",
       "      <td>0.581175</td>\n",
       "      <td>0.677961</td>\n",
       "      <td>0.242303</td>\n",
       "      <td>0.677929</td>\n",
       "    </tr>\n",
       "    <tr>\n",
       "      <th>3</th>\n",
       "      <td>Gradient Boosting</td>\n",
       "      <td>0.315539</td>\n",
       "      <td>0.561729</td>\n",
       "      <td>0.699151</td>\n",
       "      <td>0.226068</td>\n",
       "      <td>0.699121</td>\n",
       "    </tr>\n",
       "    <tr>\n",
       "      <th>4</th>\n",
       "      <td>XGBoost</td>\n",
       "      <td>0.321836</td>\n",
       "      <td>0.567306</td>\n",
       "      <td>0.693148</td>\n",
       "      <td>0.224947</td>\n",
       "      <td>0.693117</td>\n",
       "    </tr>\n",
       "  </tbody>\n",
       "</table>\n",
       "</div>"
      ],
      "text/plain": [
       "               Model       MSE      RMSE  R2_score       MAE     ADJ_r\n",
       "0  Linear Regression  1.032537  1.016138  0.015534  0.602828  0.015436\n",
       "1      Decision Tree  0.583691  0.763997  0.443483  0.328793  0.443428\n",
       "2      Random Forest  0.337764  0.581175  0.677961  0.242303  0.677929\n",
       "3  Gradient Boosting  0.315539  0.561729  0.699151  0.226068  0.699121\n",
       "4            XGBoost  0.321836  0.567306  0.693148  0.224947  0.693117"
      ]
     },
     "execution_count": 120,
     "metadata": {},
     "output_type": "execute_result"
    }
   ],
   "source": [
    "result_table"
   ]
  },
  {
   "cell_type": "markdown",
   "metadata": {},
   "source": [
    "**Based on the above,overall Random Forest produces the best results out of all tested models. However, hyperparameter tuning could help improve the results,even Gradient boostting regressor and XGBregressor are performing better.**"
   ]
  },
  {
   "cell_type": "markdown",
   "metadata": {},
   "source": [
    "### Hyperparameter Tuning"
   ]
  },
  {
   "cell_type": "code",
   "execution_count": 121,
   "metadata": {},
   "outputs": [
    {
     "name": "stdout",
     "output_type": "stream",
     "text": [
      "Mean Squared Error:  0.314971620985544\n",
      "Best Parameters:  {'n_estimators': 200, 'min_samples_split': 10, 'min_samples_leaf': 2, 'max_depth': 10}\n"
     ]
    }
   ],
   "source": [
    "rf_regressor = RandomForestRegressor()\n",
    "param_grid = {\n",
    "    'n_estimators': [100, 200, 300],\n",
    "    'max_depth': [None, 5, 10],\n",
    "    'min_samples_split': [2, 5, 10],\n",
    "    'min_samples_leaf': [1, 2, 4]}\n",
    "random_search = RandomizedSearchCV(estimator=rf_regressor, param_distributions=param_grid, n_iter=10, cv=5, random_state=42)\n",
    "random_search.fit(x_train, y_train)\n",
    "best_params = random_search.best_params_\n",
    "best_model = random_search.best_estimator_\n",
    "\n",
    "\n",
    "y_pred = best_model.predict(x_test)\n",
    "mse = mean_squared_error(y_test, y_pred)\n",
    "print(\"Mean Squared Error: \", mse)\n",
    "\n",
    "\n",
    "print(\"Best Parameters: \", best_params)\n",
    "\n",
    "\n",
    "\n",
    "\n",
    "\n",
    "\n"
   ]
  },
  {
   "cell_type": "code",
   "execution_count": 122,
   "metadata": {},
   "outputs": [
    {
     "data": {
      "text/html": [
       "<style>#sk-container-id-4 {color: black;background-color: white;}#sk-container-id-4 pre{padding: 0;}#sk-container-id-4 div.sk-toggleable {background-color: white;}#sk-container-id-4 label.sk-toggleable__label {cursor: pointer;display: block;width: 100%;margin-bottom: 0;padding: 0.3em;box-sizing: border-box;text-align: center;}#sk-container-id-4 label.sk-toggleable__label-arrow:before {content: \"▸\";float: left;margin-right: 0.25em;color: #696969;}#sk-container-id-4 label.sk-toggleable__label-arrow:hover:before {color: black;}#sk-container-id-4 div.sk-estimator:hover label.sk-toggleable__label-arrow:before {color: black;}#sk-container-id-4 div.sk-toggleable__content {max-height: 0;max-width: 0;overflow: hidden;text-align: left;background-color: #f0f8ff;}#sk-container-id-4 div.sk-toggleable__content pre {margin: 0.2em;color: black;border-radius: 0.25em;background-color: #f0f8ff;}#sk-container-id-4 input.sk-toggleable__control:checked~div.sk-toggleable__content {max-height: 200px;max-width: 100%;overflow: auto;}#sk-container-id-4 input.sk-toggleable__control:checked~label.sk-toggleable__label-arrow:before {content: \"▾\";}#sk-container-id-4 div.sk-estimator input.sk-toggleable__control:checked~label.sk-toggleable__label {background-color: #d4ebff;}#sk-container-id-4 div.sk-label input.sk-toggleable__control:checked~label.sk-toggleable__label {background-color: #d4ebff;}#sk-container-id-4 input.sk-hidden--visually {border: 0;clip: rect(1px 1px 1px 1px);clip: rect(1px, 1px, 1px, 1px);height: 1px;margin: -1px;overflow: hidden;padding: 0;position: absolute;width: 1px;}#sk-container-id-4 div.sk-estimator {font-family: monospace;background-color: #f0f8ff;border: 1px dotted black;border-radius: 0.25em;box-sizing: border-box;margin-bottom: 0.5em;}#sk-container-id-4 div.sk-estimator:hover {background-color: #d4ebff;}#sk-container-id-4 div.sk-parallel-item::after {content: \"\";width: 100%;border-bottom: 1px solid gray;flex-grow: 1;}#sk-container-id-4 div.sk-label:hover label.sk-toggleable__label {background-color: #d4ebff;}#sk-container-id-4 div.sk-serial::before {content: \"\";position: absolute;border-left: 1px solid gray;box-sizing: border-box;top: 0;bottom: 0;left: 50%;z-index: 0;}#sk-container-id-4 div.sk-serial {display: flex;flex-direction: column;align-items: center;background-color: white;padding-right: 0.2em;padding-left: 0.2em;position: relative;}#sk-container-id-4 div.sk-item {position: relative;z-index: 1;}#sk-container-id-4 div.sk-parallel {display: flex;align-items: stretch;justify-content: center;background-color: white;position: relative;}#sk-container-id-4 div.sk-item::before, #sk-container-id-4 div.sk-parallel-item::before {content: \"\";position: absolute;border-left: 1px solid gray;box-sizing: border-box;top: 0;bottom: 0;left: 50%;z-index: -1;}#sk-container-id-4 div.sk-parallel-item {display: flex;flex-direction: column;z-index: 1;position: relative;background-color: white;}#sk-container-id-4 div.sk-parallel-item:first-child::after {align-self: flex-end;width: 50%;}#sk-container-id-4 div.sk-parallel-item:last-child::after {align-self: flex-start;width: 50%;}#sk-container-id-4 div.sk-parallel-item:only-child::after {width: 0;}#sk-container-id-4 div.sk-dashed-wrapped {border: 1px dashed gray;margin: 0 0.4em 0.5em 0.4em;box-sizing: border-box;padding-bottom: 0.4em;background-color: white;}#sk-container-id-4 div.sk-label label {font-family: monospace;font-weight: bold;display: inline-block;line-height: 1.2em;}#sk-container-id-4 div.sk-label-container {text-align: center;}#sk-container-id-4 div.sk-container {/* jupyter's `normalize.less` sets `[hidden] { display: none; }` but bootstrap.min.css set `[hidden] { display: none !important; }` so we also need the `!important` here to be able to override the default hidden behavior on the sphinx rendered scikit-learn.org. See: https://github.com/scikit-learn/scikit-learn/issues/21755 */display: inline-block !important;position: relative;}#sk-container-id-4 div.sk-text-repr-fallback {display: none;}</style><div id=\"sk-container-id-4\" class=\"sk-top-container\"><div class=\"sk-text-repr-fallback\"><pre>RandomForestRegressor(max_depth=10, min_samples_leaf=2, min_samples_split=10,\n",
       "                      n_estimators=200)</pre><b>In a Jupyter environment, please rerun this cell to show the HTML representation or trust the notebook. <br />On GitHub, the HTML representation is unable to render, please try loading this page with nbviewer.org.</b></div><div class=\"sk-container\" hidden><div class=\"sk-item\"><div class=\"sk-estimator sk-toggleable\"><input class=\"sk-toggleable__control sk-hidden--visually\" id=\"sk-estimator-id-4\" type=\"checkbox\" checked><label for=\"sk-estimator-id-4\" class=\"sk-toggleable__label sk-toggleable__label-arrow\">RandomForestRegressor</label><div class=\"sk-toggleable__content\"><pre>RandomForestRegressor(max_depth=10, min_samples_leaf=2, min_samples_split=10,\n",
       "                      n_estimators=200)</pre></div></div></div></div></div>"
      ],
      "text/plain": [
       "RandomForestRegressor(max_depth=10, min_samples_leaf=2, min_samples_split=10,\n",
       "                      n_estimators=200)"
      ]
     },
     "execution_count": 122,
     "metadata": {},
     "output_type": "execute_result"
    }
   ],
   "source": [
    "RF = RandomForestRegressor(n_estimators=200, min_samples_split=10,min_samples_leaf=2,max_depth=10)\n",
    "RF.fit(x_train, y_train)"
   ]
  },
  {
   "cell_type": "code",
   "execution_count": 123,
   "metadata": {},
   "outputs": [
    {
     "name": "stdout",
     "output_type": "stream",
     "text": [
      "Training set score: 0.81\n",
      "Test set score: 0.7000702\n"
     ]
    }
   ],
   "source": [
    "print(\"Training set score: {:.2f}\".format(RF.score(x_train, y_train)))\n",
    "print(\"Test set score: {:.7f}\".format(RF.score(x_test, y_test)))"
   ]
  },
  {
   "cell_type": "code",
   "execution_count": 124,
   "metadata": {},
   "outputs": [],
   "source": [
    "MAE_XGB= metrics.mean_absolute_error(y_test, predictions_xgb)\n",
    "MSE_XGB= metrics.mean_squared_error(y_test, predictions_xgb)\n",
    "RMSE_XGB= np.sqrt(metrics.mean_squared_error(y_test, predictions_xgb))\n",
    "r2_XGB=r2_score(y_test, predictions_xgb)\n",
    "Adj_r2_XGB=1-(1-r2_score(y_test, predictions_xgb))*((len(x_test)-1)/(len(x_test)-len(x_test[0])-1))"
   ]
  },
  {
   "cell_type": "code",
   "execution_count": 125,
   "metadata": {},
   "outputs": [
    {
     "name": "stdout",
     "output_type": "stream",
     "text": [
      "Mean absolute error of random forest 0.24230291963294112\n",
      "Mean square  error of random forest 0.3377643208442173\n",
      "root Mean square error of random forest 0.5811749485690323\n",
      "r2 score of random forest 0.6779607565526813\n",
      "adjusted r2 of random forest 0.6779285488707737\n"
     ]
    }
   ],
   "source": [
    "print('Mean absolute error of random forest',MAE_RF)\n",
    "print('Mean square  error of random forest',MSE_RF)\n",
    "print('root Mean square error of random forest',RMSE_RF)\n",
    "print('r2 score of random forest',r2_RF)\n",
    "print('adjusted r2 of random forest',Adj_r2_RF)"
   ]
  },
  {
   "cell_type": "markdown",
   "metadata": {},
   "source": [
    "After Tuning there are some Minute Changes to be Observed"
   ]
  },
  {
   "cell_type": "markdown",
   "metadata": {},
   "source": [
    "_____________________________"
   ]
  },
  {
   "cell_type": "markdown",
   "metadata": {},
   "source": [
    "# THANKYOU"
   ]
  },
  {
   "cell_type": "markdown",
   "metadata": {},
   "source": [
    "________________________________________"
   ]
  }
 ],
 "metadata": {
  "kernelspec": {
   "display_name": "Python 3 (ipykernel)",
   "language": "python",
   "name": "python3"
  },
  "language_info": {
   "codemirror_mode": {
    "name": "ipython",
    "version": 3
   },
   "file_extension": ".py",
   "mimetype": "text/x-python",
   "name": "python",
   "nbconvert_exporter": "python",
   "pygments_lexer": "ipython3",
   "version": "3.9.12"
  }
 },
 "nbformat": 4,
 "nbformat_minor": 4
}
